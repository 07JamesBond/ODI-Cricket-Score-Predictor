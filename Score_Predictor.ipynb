{
 "cells": [
  {
   "cell_type": "markdown",
   "source": [
    "# Mounting Drive"
   ],
   "metadata": {
    "id": "5vDJ0kNRptvQ"
   }
  },
  {
   "cell_type": "code",
   "source": [
    "from google.colab import drive\n",
    "drive.mount('/content/drive')"
   ],
   "metadata": {
    "id": "c3SF7EDCWK6F",
    "colab": {
     "base_uri": "https://localhost:8080/"
    },
    "outputId": "04474c0e-27b0-4c47-f646-5f907e946ed4"
   },
   "execution_count": 1,
   "outputs": [
    {
     "output_type": "stream",
     "name": "stdout",
     "text": [
      "Mounted at /content/drive\n"
     ]
    }
   ]
  },
  {
   "cell_type": "markdown",
   "source": [
    "# Importing Necessary Libraries"
   ],
   "metadata": {
    "id": "XAJSTXmppzzO"
   }
  },
  {
   "cell_type": "code",
   "execution_count": 2,
   "metadata": {
    "id": "4DdipqgiJP_s",
    "colab": {
     "base_uri": "https://localhost:8080/",
     "height": 36
    },
    "outputId": "d5e3ae24-5b43-4331-a539-3f2f2152605a"
   },
   "outputs": [
    {
     "output_type": "execute_result",
     "data": {
      "text/plain": [
       "'/device:GPU:0'"
      ],
      "application/vnd.google.colaboratory.intrinsic+json": {
       "type": "string"
      }
     },
     "metadata": {},
     "execution_count": 2
    }
   ],
   "source": [
    "import pandas as pd\n",
    "import ipywidgets as widgets\n",
    "import numpy as np\n",
    "import tensorflow as tf\n",
    "import joblib\n",
    "from sklearn.linear_model import ElasticNet\n",
    "from sklearn import metrics\n",
    "from IPython.display import display\n",
    "from sklearn import svm\n",
    "from sklearn.model_selection import GridSearchCV\n",
    "from sklearn.linear_model import Lasso\n",
    "from sklearn.linear_model import LinearRegression\n",
    "from sklearn.ensemble import RandomForestRegressor\n",
    "from sklearn.model_selection import train_test_split\n",
    "from sklearn.metrics import mean_absolute_error\n",
    "from sklearn.metrics import mean_squared_error\n",
    "from sklearn.metrics import mean_absolute_error\n",
    "from sklearn.metrics import r2_score\n",
    "\n",
    "\n",
    "device_list=tf.test.gpu_device_name()\n",
    "device_list\n"
   ]
  },
  {
   "cell_type": "markdown",
   "source": [
    "# Creating a dataframe Using the Dataset"
   ],
   "metadata": {
    "id": "h_3mKENep8uI"
   }
  },
  {
   "cell_type": "code",
   "execution_count": 3,
   "metadata": {
    "id": "MoXbqt-rJV1F"
   },
   "outputs": [],
   "source": [
    "df = pd.read_csv('/content/drive/MyDrive/CSE-303 Statistical Analysis for Data Science/Project/Dataset/odi.csv')"
   ]
  },
  {
   "cell_type": "markdown",
   "source": [
    "# Features used to train  Linear, Neural Network and Elastic Net models"
   ],
   "metadata": {
    "id": "V28GtX5mqHGw"
   }
  },
  {
   "cell_type": "code",
   "execution_count": 4,
   "metadata": {
    "id": "Cz9ZOHc8LDI1"
   },
   "outputs": [],
   "source": [
    "X1 = df[['bat_team', 'bowl_team', 'overs','runs', 'venue','wickets','runs_last_5','wickets_last_5']]\n",
    "X1 = pd.get_dummies(X1, columns=['bat_team', 'bowl_team', 'venue'], drop_first=True)\n",
    "Y1 = df['total']"
   ]
  },
  {
   "cell_type": "markdown",
   "source": [
    "# Features used to train  Random Forest"
   ],
   "metadata": {
    "id": "IT-d_sSLqZj8"
   }
  },
  {
   "cell_type": "code",
   "source": [
    "X2 = df[['bat_team', 'bowl_team', 'overs', 'venue','runs', 'wickets','runs_last_5','wickets_last_5']]\n",
    "X2 = pd.get_dummies(df[['bat_team', 'bowl_team', 'overs', 'venue','runs', 'wickets','runs_last_5','wickets_last_5']], drop_first=True)\n",
    "Y2= df['total']"
   ],
   "metadata": {
    "id": "lXnpYsDIcb8G"
   },
   "execution_count": 5,
   "outputs": []
  },
  {
   "cell_type": "markdown",
   "source": [
    "# Splitting the dataset for training and testing"
   ],
   "metadata": {
    "id": "EZ2gO_ZgqrRj"
   }
  },
  {
   "cell_type": "code",
   "source": [
    "X_train1, X_test1, Y_train1, Y_test1 = train_test_split(X1, Y1, test_size=0.2, random_state=42)\n",
    "X_train2, X_test2, Y_train2, Y_test2 = train_test_split(X2, Y2, test_size=0.2, random_state=42)"
   ],
   "metadata": {
    "id": "tA3C3bKlWdsY"
   },
   "execution_count": 6,
   "outputs": []
  },
  {
   "cell_type": "markdown",
   "source": [
    "# Linear Regression"
   ],
   "metadata": {
    "id": "joCY2UazZc0t"
   }
  },
  {
   "cell_type": "code",
   "execution_count": null,
   "metadata": {
    "id": "mLnoYvAqL8pl",
    "colab": {
     "base_uri": "https://localhost:8080/",
     "height": 74
    },
    "outputId": "17eb9464-565a-4216-b0e6-f6d06596862a"
   },
   "outputs": [
    {
     "output_type": "execute_result",
     "data": {
      "text/plain": [
       "LinearRegression()"
      ],
      "text/html": [
       "<style>#sk-container-id-1 {color: black;background-color: white;}#sk-container-id-1 pre{padding: 0;}#sk-container-id-1 div.sk-toggleable {background-color: white;}#sk-container-id-1 label.sk-toggleable__label {cursor: pointer;display: block;width: 100%;margin-bottom: 0;padding: 0.3em;box-sizing: border-box;text-align: center;}#sk-container-id-1 label.sk-toggleable__label-arrow:before {content: \"\u25b8\";float: left;margin-right: 0.25em;color: #696969;}#sk-container-id-1 label.sk-toggleable__label-arrow:hover:before {color: black;}#sk-container-id-1 div.sk-estimator:hover label.sk-toggleable__label-arrow:before {color: black;}#sk-container-id-1 div.sk-toggleable__content {max-height: 0;max-width: 0;overflow: hidden;text-align: left;background-color: #f0f8ff;}#sk-container-id-1 div.sk-toggleable__content pre {margin: 0.2em;color: black;border-radius: 0.25em;background-color: #f0f8ff;}#sk-container-id-1 input.sk-toggleable__control:checked~div.sk-toggleable__content {max-height: 200px;max-width: 100%;overflow: auto;}#sk-container-id-1 input.sk-toggleable__control:checked~label.sk-toggleable__label-arrow:before {content: \"\u25be\";}#sk-container-id-1 div.sk-estimator input.sk-toggleable__control:checked~label.sk-toggleable__label {background-color: #d4ebff;}#sk-container-id-1 div.sk-label input.sk-toggleable__control:checked~label.sk-toggleable__label {background-color: #d4ebff;}#sk-container-id-1 input.sk-hidden--visually {border: 0;clip: rect(1px 1px 1px 1px);clip: rect(1px, 1px, 1px, 1px);height: 1px;margin: -1px;overflow: hidden;padding: 0;position: absolute;width: 1px;}#sk-container-id-1 div.sk-estimator {font-family: monospace;background-color: #f0f8ff;border: 1px dotted black;border-radius: 0.25em;box-sizing: border-box;margin-bottom: 0.5em;}#sk-container-id-1 div.sk-estimator:hover {background-color: #d4ebff;}#sk-container-id-1 div.sk-parallel-item::after {content: \"\";width: 100%;border-bottom: 1px solid gray;flex-grow: 1;}#sk-container-id-1 div.sk-label:hover label.sk-toggleable__label {background-color: #d4ebff;}#sk-container-id-1 div.sk-serial::before {content: \"\";position: absolute;border-left: 1px solid gray;box-sizing: border-box;top: 0;bottom: 0;left: 50%;z-index: 0;}#sk-container-id-1 div.sk-serial {display: flex;flex-direction: column;align-items: center;background-color: white;padding-right: 0.2em;padding-left: 0.2em;position: relative;}#sk-container-id-1 div.sk-item {position: relative;z-index: 1;}#sk-container-id-1 div.sk-parallel {display: flex;align-items: stretch;justify-content: center;background-color: white;position: relative;}#sk-container-id-1 div.sk-item::before, #sk-container-id-1 div.sk-parallel-item::before {content: \"\";position: absolute;border-left: 1px solid gray;box-sizing: border-box;top: 0;bottom: 0;left: 50%;z-index: -1;}#sk-container-id-1 div.sk-parallel-item {display: flex;flex-direction: column;z-index: 1;position: relative;background-color: white;}#sk-container-id-1 div.sk-parallel-item:first-child::after {align-self: flex-end;width: 50%;}#sk-container-id-1 div.sk-parallel-item:last-child::after {align-self: flex-start;width: 50%;}#sk-container-id-1 div.sk-parallel-item:only-child::after {width: 0;}#sk-container-id-1 div.sk-dashed-wrapped {border: 1px dashed gray;margin: 0 0.4em 0.5em 0.4em;box-sizing: border-box;padding-bottom: 0.4em;background-color: white;}#sk-container-id-1 div.sk-label label {font-family: monospace;font-weight: bold;display: inline-block;line-height: 1.2em;}#sk-container-id-1 div.sk-label-container {text-align: center;}#sk-container-id-1 div.sk-container {/* jupyter's `normalize.less` sets `[hidden] { display: none; }` but bootstrap.min.css set `[hidden] { display: none !important; }` so we also need the `!important` here to be able to override the default hidden behavior on the sphinx rendered scikit-learn.org. See: https://github.com/scikit-learn/scikit-learn/issues/21755 */display: inline-block !important;position: relative;}#sk-container-id-1 div.sk-text-repr-fallback {display: none;}</style><div id=\"sk-container-id-1\" class=\"sk-top-container\"><div class=\"sk-text-repr-fallback\"><pre>LinearRegression()</pre><b>In a Jupyter environment, please rerun this cell to show the HTML representation or trust the notebook. <br />On GitHub, the HTML representation is unable to render, please try loading this page with nbviewer.org.</b></div><div class=\"sk-container\" hidden><div class=\"sk-item\"><div class=\"sk-estimator sk-toggleable\"><input class=\"sk-toggleable__control sk-hidden--visually\" id=\"sk-estimator-id-1\" type=\"checkbox\" checked><label for=\"sk-estimator-id-1\" class=\"sk-toggleable__label sk-toggleable__label-arrow\">LinearRegression</label><div class=\"sk-toggleable__content\"><pre>LinearRegression()</pre></div></div></div></div></div>"
      ]
     },
     "metadata": {},
     "execution_count": 7
    }
   ],
   "source": [
    "model_LG = LinearRegression()\n",
    "model_LG.fit(X_train1, Y_train1)\n"
   ]
  },
  {
   "cell_type": "markdown",
   "source": [
    "# Random Forest"
   ],
   "metadata": {
    "id": "MaqbbGBfZiXr"
   }
  },
  {
   "cell_type": "code",
   "source": [
    "model_RF = RandomForestRegressor(n_estimators=100, random_state=42)\n",
    "model_RF.fit(X_train2, Y_train2)"
   ],
   "metadata": {
    "id": "FTD3P4a0iLgR",
    "colab": {
     "base_uri": "https://localhost:8080/",
     "height": 74
    },
    "outputId": "33b413b6-3b67-4ebe-f6a9-12b824076e6b"
   },
   "execution_count": null,
   "outputs": [
    {
     "output_type": "execute_result",
     "data": {
      "text/plain": [
       "RandomForestRegressor(random_state=42)"
      ],
      "text/html": [
       "<style>#sk-container-id-2 {color: black;background-color: white;}#sk-container-id-2 pre{padding: 0;}#sk-container-id-2 div.sk-toggleable {background-color: white;}#sk-container-id-2 label.sk-toggleable__label {cursor: pointer;display: block;width: 100%;margin-bottom: 0;padding: 0.3em;box-sizing: border-box;text-align: center;}#sk-container-id-2 label.sk-toggleable__label-arrow:before {content: \"\u25b8\";float: left;margin-right: 0.25em;color: #696969;}#sk-container-id-2 label.sk-toggleable__label-arrow:hover:before {color: black;}#sk-container-id-2 div.sk-estimator:hover label.sk-toggleable__label-arrow:before {color: black;}#sk-container-id-2 div.sk-toggleable__content {max-height: 0;max-width: 0;overflow: hidden;text-align: left;background-color: #f0f8ff;}#sk-container-id-2 div.sk-toggleable__content pre {margin: 0.2em;color: black;border-radius: 0.25em;background-color: #f0f8ff;}#sk-container-id-2 input.sk-toggleable__control:checked~div.sk-toggleable__content {max-height: 200px;max-width: 100%;overflow: auto;}#sk-container-id-2 input.sk-toggleable__control:checked~label.sk-toggleable__label-arrow:before {content: \"\u25be\";}#sk-container-id-2 div.sk-estimator input.sk-toggleable__control:checked~label.sk-toggleable__label {background-color: #d4ebff;}#sk-container-id-2 div.sk-label input.sk-toggleable__control:checked~label.sk-toggleable__label {background-color: #d4ebff;}#sk-container-id-2 input.sk-hidden--visually {border: 0;clip: rect(1px 1px 1px 1px);clip: rect(1px, 1px, 1px, 1px);height: 1px;margin: -1px;overflow: hidden;padding: 0;position: absolute;width: 1px;}#sk-container-id-2 div.sk-estimator {font-family: monospace;background-color: #f0f8ff;border: 1px dotted black;border-radius: 0.25em;box-sizing: border-box;margin-bottom: 0.5em;}#sk-container-id-2 div.sk-estimator:hover {background-color: #d4ebff;}#sk-container-id-2 div.sk-parallel-item::after {content: \"\";width: 100%;border-bottom: 1px solid gray;flex-grow: 1;}#sk-container-id-2 div.sk-label:hover label.sk-toggleable__label {background-color: #d4ebff;}#sk-container-id-2 div.sk-serial::before {content: \"\";position: absolute;border-left: 1px solid gray;box-sizing: border-box;top: 0;bottom: 0;left: 50%;z-index: 0;}#sk-container-id-2 div.sk-serial {display: flex;flex-direction: column;align-items: center;background-color: white;padding-right: 0.2em;padding-left: 0.2em;position: relative;}#sk-container-id-2 div.sk-item {position: relative;z-index: 1;}#sk-container-id-2 div.sk-parallel {display: flex;align-items: stretch;justify-content: center;background-color: white;position: relative;}#sk-container-id-2 div.sk-item::before, #sk-container-id-2 div.sk-parallel-item::before {content: \"\";position: absolute;border-left: 1px solid gray;box-sizing: border-box;top: 0;bottom: 0;left: 50%;z-index: -1;}#sk-container-id-2 div.sk-parallel-item {display: flex;flex-direction: column;z-index: 1;position: relative;background-color: white;}#sk-container-id-2 div.sk-parallel-item:first-child::after {align-self: flex-end;width: 50%;}#sk-container-id-2 div.sk-parallel-item:last-child::after {align-self: flex-start;width: 50%;}#sk-container-id-2 div.sk-parallel-item:only-child::after {width: 0;}#sk-container-id-2 div.sk-dashed-wrapped {border: 1px dashed gray;margin: 0 0.4em 0.5em 0.4em;box-sizing: border-box;padding-bottom: 0.4em;background-color: white;}#sk-container-id-2 div.sk-label label {font-family: monospace;font-weight: bold;display: inline-block;line-height: 1.2em;}#sk-container-id-2 div.sk-label-container {text-align: center;}#sk-container-id-2 div.sk-container {/* jupyter's `normalize.less` sets `[hidden] { display: none; }` but bootstrap.min.css set `[hidden] { display: none !important; }` so we also need the `!important` here to be able to override the default hidden behavior on the sphinx rendered scikit-learn.org. See: https://github.com/scikit-learn/scikit-learn/issues/21755 */display: inline-block !important;position: relative;}#sk-container-id-2 div.sk-text-repr-fallback {display: none;}</style><div id=\"sk-container-id-2\" class=\"sk-top-container\"><div class=\"sk-text-repr-fallback\"><pre>RandomForestRegressor(random_state=42)</pre><b>In a Jupyter environment, please rerun this cell to show the HTML representation or trust the notebook. <br />On GitHub, the HTML representation is unable to render, please try loading this page with nbviewer.org.</b></div><div class=\"sk-container\" hidden><div class=\"sk-item\"><div class=\"sk-estimator sk-toggleable\"><input class=\"sk-toggleable__control sk-hidden--visually\" id=\"sk-estimator-id-2\" type=\"checkbox\" checked><label for=\"sk-estimator-id-2\" class=\"sk-toggleable__label sk-toggleable__label-arrow\">RandomForestRegressor</label><div class=\"sk-toggleable__content\"><pre>RandomForestRegressor(random_state=42)</pre></div></div></div></div></div>"
      ]
     },
     "metadata": {},
     "execution_count": 8
    }
   ]
  },
  {
   "cell_type": "markdown",
   "source": [
    "# SVM"
   ],
   "metadata": {
    "id": "m4sSXO2rpLcm"
   }
  },
  {
   "cell_type": "code",
   "source": [
    "\n",
    "\n",
    "# svm = svm.SVC()\n",
    "\n",
    "\n",
    "# param_grid = {\n",
    "#     'kernel': ['sigmoid', 'rbf'],\n",
    "#     'C': [0.1, 1, 10],\n",
    "#     'gamma': [0.01, 0.1, 1]\n",
    "# }\n",
    "\n",
    "# # Create GridSearchCV with cross-validation\n",
    "# grid_search = GridSearchCV(svm, param_grid, cv=3)\n",
    "# grid_search.fit(X_train1, Y_train1)\n",
    "\n",
    "# model_SVM = grid_search.best_estimator_\n"
   ],
   "metadata": {
    "id": "-yPiAjrAcnds"
   },
   "execution_count": null,
   "outputs": []
  },
  {
   "cell_type": "markdown",
   "source": [
    "# Simple Neural Network"
   ],
   "metadata": {
    "id": "bndoSmEXZmkx"
   }
  },
  {
   "cell_type": "code",
   "source": [
    "\n",
    "model_NN = tf.keras.Sequential([\n",
    "    tf.keras.layers.Dense(64, activation='relu', input_shape=(180,)),\n",
    "    tf.keras.layers.Dense(32, activation='relu'),\n",
    "    tf.keras.layers.Dense(1, activation='linear')\n",
    "])\n",
    "\n",
    "model_NN.compile(optimizer='adam', loss='mean_squared_error')\n",
    "model_NN.fit(X_train1, Y_train1, epochs=10, batch_size=64, validation_split=0.2)\n"
   ],
   "metadata": {
    "id": "hN5Syy73itqe",
    "colab": {
     "base_uri": "https://localhost:8080/"
    },
    "outputId": "b832b7d3-fd75-47cc-ea15-54353a8c547d"
   },
   "execution_count": null,
   "outputs": [
    {
     "output_type": "stream",
     "name": "stdout",
     "text": [
      "Epoch 1/10\n",
      "3509/3509 [==============================] - 15s 4ms/step - loss: 3840.3735 - val_loss: 1432.1520\n",
      "Epoch 2/10\n",
      "3509/3509 [==============================] - 13s 4ms/step - loss: 1367.8497 - val_loss: 1327.4457\n",
      "Epoch 3/10\n",
      "3509/3509 [==============================] - 12s 3ms/step - loss: 1243.8065 - val_loss: 1144.4727\n",
      "Epoch 4/10\n",
      "3509/3509 [==============================] - 13s 4ms/step - loss: 1084.2146 - val_loss: 961.9941\n",
      "Epoch 5/10\n",
      "3509/3509 [==============================] - 13s 4ms/step - loss: 909.6435 - val_loss: 816.5537\n",
      "Epoch 6/10\n",
      "3509/3509 [==============================] - 13s 4ms/step - loss: 755.2711 - val_loss: 683.2667\n",
      "Epoch 7/10\n",
      "3509/3509 [==============================] - 13s 4ms/step - loss: 651.8932 - val_loss: 586.5989\n",
      "Epoch 8/10\n",
      "3509/3509 [==============================] - 13s 4ms/step - loss: 574.0005 - val_loss: 553.3832\n",
      "Epoch 9/10\n",
      "3509/3509 [==============================] - 13s 4ms/step - loss: 516.6414 - val_loss: 480.9505\n",
      "Epoch 10/10\n",
      "3509/3509 [==============================] - 13s 4ms/step - loss: 473.3427 - val_loss: 480.6608\n"
     ]
    },
    {
     "output_type": "execute_result",
     "data": {
      "text/plain": [
       "<keras.src.callbacks.History at 0x7b99894acbe0>"
      ]
     },
     "metadata": {},
     "execution_count": 27
    }
   ]
  },
  {
   "cell_type": "markdown",
   "source": [
    "# Elastic Net 50% Lasso, 50% Ridge"
   ],
   "metadata": {
    "id": "pSWOBOg3Zqy5"
   }
  },
  {
   "cell_type": "code",
   "source": [
    "model_EN = ElasticNet(alpha=1.0, l1_ratio=0.5)\n",
    "model_EN.fit(X_train1, Y_train1)"
   ],
   "metadata": {
    "id": "G2gxd6VPSUIA"
   },
   "execution_count": null,
   "outputs": []
  },
  {
   "cell_type": "markdown",
   "source": [
    "# Saving The Models"
   ],
   "metadata": {
    "id": "rkJMtisZZyFJ"
   }
  },
  {
   "cell_type": "code",
   "source": [
    "joblib.dump(model_LG,'/content/drive/MyDrive/CSE-303 Statistical Analysis for Data Science/Project/model_LG.pkl')\n",
    "joblib.dump(model_RF,'/content/drive/MyDrive/CSE-303 Statistical Analysis for Data Science/Project/model_RF.pkl')\n",
    "joblib.dump(model_NN,'/content/drive/MyDrive/CSE-303 Statistical Analysis for Data Science/Project/model_NN.pkl')\n",
    "joblib.dump(model_EN,'/content/drive/MyDrive/CSE-303 Statistical Analysis for Data Science/Project/model_EN.pkl')\n"
   ],
   "metadata": {
    "id": "-u7H4GfUtXoC",
    "colab": {
     "base_uri": "https://localhost:8080/"
    },
    "outputId": "68b6bea5-336f-436e-c881-747a48c47f2f"
   },
   "execution_count": null,
   "outputs": [
    {
     "output_type": "execute_result",
     "data": {
      "text/plain": [
       "['/content/drive/MyDrive/CSE-303 Statistical Analysis for Data Science/Project/model_EN.pkl']"
      ]
     },
     "metadata": {},
     "execution_count": 19
    }
   ]
  },
  {
   "cell_type": "markdown",
   "source": [
    "# Loading The Models"
   ],
   "metadata": {
    "id": "EKFsFjzeZ3G9"
   }
  },
  {
   "cell_type": "code",
   "source": [
    "model_path1 = '/content/drive/MyDrive/CSE-303 Statistical Analysis for Data Science/Project/model_LG.pkl'\n",
    "model_path2 = '/content/drive/MyDrive/CSE-303 Statistical Analysis for Data Science/Project/model_RF.pkl'\n",
    "model_path3 = '/content/drive/MyDrive/CSE-303 Statistical Analysis for Data Science/Project/model_NN.pkl'\n",
    "model_path4 = '/content/drive/MyDrive/CSE-303 Statistical Analysis for Data Science/Project/model_EN.pkl'\n",
    "model_LG= joblib.load(model_path1)\n",
    "model_RF= joblib.load(model_path2)\n",
    "model_NN= joblib.load(model_path3)\n",
    "model_EN= joblib.load(model_path4)"
   ],
   "metadata": {
    "id": "vG5yMj-Mtrhg"
   },
   "execution_count": 7,
   "outputs": []
  },
  {
   "cell_type": "markdown",
   "source": [
    "# Models MSE,MAE and R2 Values and Comparison between Models"
   ],
   "metadata": {
    "id": "Yd6dsdhjeoS3"
   }
  },
  {
   "cell_type": "code",
   "source": [
    "y_pred_LG = model_LG.predict(X_test1)\n",
    "y_pred_RF = model_RF.predict(X_test2)\n",
    "y_pred_NN = model_NN.predict(X_test1)\n",
    "y_pred_EN = model_EN.predict(X_test1)\n",
    "\n",
    "\n",
    "mse_LG = mean_squared_error(Y_test1, y_pred_LG)\n",
    "mae_LG = mean_absolute_error(Y_test1, y_pred_LG)\n",
    "r2_LG = r2_score(Y_test1, y_pred_LG)\n",
    "\n",
    "mse_RF = mean_squared_error(Y_test2, y_pred_RF)\n",
    "mae_RF = mean_absolute_error(Y_test2, y_pred_RF)\n",
    "r2_RF = r2_score(Y_test2, y_pred_RF)\n",
    "\n",
    "mse_NN = mean_squared_error(Y_test1, y_pred_NN)\n",
    "mae_NN = mean_absolute_error(Y_test1, y_pred_NN)\n",
    "r2_NN = r2_score(Y_test1, y_pred_NN)\n",
    "\n",
    "mse_EN = mean_squared_error(Y_test1, y_pred_EN)\n",
    "mae_EN = mean_absolute_error(Y_test1, y_pred_EN)\n",
    "r2_EN = r2_score(Y_test1, y_pred_EN)\n",
    "\n",
    "\n",
    "print(\"Linear Regression:\")\n",
    "print(f\"MSE: {mse_LG}\")\n",
    "print(f\"MAE: {mae_LG}\")\n",
    "print(f\"R2: {r2_LG}\\n\")\n",
    "\n",
    "print(\"Random Forest:\")\n",
    "print(f\"MSE: {mse_RF}\")\n",
    "print(f\"MAE: {mae_RF}\")\n",
    "print(f\"R2: {r2_RF}\\n\")\n",
    "\n",
    "print(\"Neural Network:\")\n",
    "print(f\"MSE: {mse_NN}\")\n",
    "print(f\"MAE: {mae_NN}\")\n",
    "print(f\"R2: {r2_NN}\\n\")\n",
    "\n",
    "print(\"Elastic Net:\")\n",
    "print(f\"MSE: {mse_EN}\")\n",
    "print(f\"MAE: {mae_EN}\")\n",
    "print(f\"R2: {r2_EN}\\n\")\n",
    "\n",
    "\n",
    "if mse_LG < mse_RF and mse_LG < mse_NN and mse_LG < mse_EN:\n",
    "    print(\"Linear Regression has the lowest MSE.\")\n",
    "elif mse_RF < mse_LG and mse_RF < mse_NN and mse_RF < mse_EN:\n",
    "    print(\"Random Forest has the lowest MSE.\")\n",
    "elif mse_NN < mse_LG and mse_NN < mse_RF and mse_NN < mse_EN:\n",
    "    print(\"Neural Network has the lowest MSE.\")\n",
    "else:\n",
    "    print(\"Elastic Net has the lowest MSE.\")\n",
    "\n",
    "\n",
    "if mae_LG < mae_RF and mae_LG < mae_NN and mae_LG < mae_EN:\n",
    "    print(\"Linear Regression has the lowest MAE.\")\n",
    "elif mae_RF < mae_LG and mae_RF < mae_NN and mae_RF < mae_EN:\n",
    "    print(\"Random Forest has the lowest MAE.\")\n",
    "elif mae_NN < mae_LG and mae_NN < mae_RF and mae_NN < mae_EN:\n",
    "    print(\"Neural Network has the lowest MAE.\")\n",
    "else:\n",
    "    print(\"Elastic Net has the lowest MAE.\")\n",
    "\n",
    "\n",
    "if r2_LG > r2_RF and r2_LG > r2_NN and r2_LG > r2_EN:\n",
    "    print(\"Linear Regression has the highest R2.\")\n",
    "elif r2_RF > r2_LG and r2_RF > r2_NN and r2_RF > r2_EN:\n",
    "    print(\"Random Forest has the highest R2.\")\n",
    "elif r2_NN > r2_LG and r2_NN > r2_RF and r2_NN > r2_EN:\n",
    "    print(\"Neural Network has the highest R2.\")\n",
    "else:\n",
    "    print(\"Elastic Net has the highest R2.\")\n"
   ],
   "metadata": {
    "id": "2y4VPJu6aLyQ",
    "colab": {
     "base_uri": "https://localhost:8080/"
    },
    "outputId": "441b8de9-ec28-44ef-f2a4-76b289c5c4b5"
   },
   "execution_count": 8,
   "outputs": [
    {
     "output_type": "stream",
     "name": "stdout",
     "text": [
      "2194/2194 [==============================] - 8s 2ms/step\n",
      "Linear Regression:\n",
      "MSE: 1482.097478318081\n",
      "MAE: 29.13189526550931\n",
      "R2: 0.6184790222410205\n",
      "\n",
      "Random Forest:\n",
      "MSE: 74.73676518869883\n",
      "MAE: 3.4675392791757504\n",
      "R2: 0.9807612898972788\n",
      "\n",
      "Neural Network:\n",
      "MSE: 449.2786885957922\n",
      "MAE: 14.916741172429605\n",
      "R2: 0.8843468482559879\n",
      "\n",
      "Elastic Net:\n",
      "MSE: 1836.821680792653\n",
      "MAE: 31.780055775067694\n",
      "R2: 0.5271660508995848\n",
      "\n",
      "Random Forest has the lowest MSE.\n",
      "Random Forest has the lowest MAE.\n",
      "Random Forest has the highest R2.\n"
     ]
    }
   ]
  },
  {
   "cell_type": "markdown",
   "source": [
    "# Score Prediction Function"
   ],
   "metadata": {
    "id": "smrJPS5eZ8G-"
   }
  },
  {
   "cell_type": "code",
   "source": [
    "def predict_final_score(overs, wickets, runs, batting_team, bowling_team, venue,runs_last_5,wickets_last_5,model):\n",
    "    input_data = pd.DataFrame(columns=X2.columns)\n",
    "    input_data.loc[0] = 0\n",
    "    input_data.loc[0, 'overs'] = overs\n",
    "    input_data.loc[0, 'wickets'] = wickets\n",
    "    input_data.loc[0, 'runs'] = runs\n",
    "    input_data.loc[0, 'runs_last_5']=runs_last_5\n",
    "    input_data.loc[0, 'wickets_last_5']=wickets_last_5\n",
    "    input_data.loc[0, 'bat_team_' + batting_team] = 1\n",
    "    input_data.loc[0, 'bowl_team_' + bowling_team] = 1\n",
    "    input_data.loc[0, 'venue_' + venue] = 1\n",
    "\n",
    "    if model==1:\n",
    "      predicted_final_score = model_LG.predict(input_data)[0]\n",
    "    elif model==2:\n",
    "      predicted_final_score = model_RF.predict(input_data)[0]\n",
    "    elif model==3:\n",
    "      predicted_final_score = model_NN.predict(input_data)[0]\n",
    "    elif model==4:\n",
    "      predicted_final_score = model_EN.predict(input_data)[0]\n",
    "\n",
    "\n",
    "    predicted_score.value = int(predicted_final_score)\n"
   ],
   "metadata": {
    "id": "RkL5TrA9beeU"
   },
   "execution_count": 9,
   "outputs": []
  },
  {
   "cell_type": "markdown",
   "source": [
    "# Win Prediciton Function"
   ],
   "metadata": {
    "id": "ZplLreJUaAV8"
   }
  },
  {
   "cell_type": "code",
   "source": [
    "def predicted_winner(overs, wickets, runs,team1, team2, venue,runs_last_5,wickets_last_5,target,Innings):\n",
    "\n",
    "\n",
    "    if overs>0:\n",
    "      #During 1st Innings\n",
    "      if Innings=='1st Innings':\n",
    "        input_data_team1 = pd.DataFrame(columns=X2.columns)\n",
    "        input_data_team1.loc[0] = 0\n",
    "        input_data_team1.loc[0,'bat_team_' + team1] = 1\n",
    "        input_data_team1.loc[0,'bowl_team_' + team2] = 1\n",
    "        input_data_team1.loc[0,'venue_' + venue] = 1\n",
    "        input_data_team1.loc[0, 'overs'] = overs\n",
    "        input_data_team1.loc[0, 'wickets'] = wickets\n",
    "        input_data_team1.loc[0, 'runs'] = runs\n",
    "        input_data_team1.loc[0, 'runs_last_5']=runs_last_5\n",
    "        input_data_team1.loc[0, 'wickets_last_5']=wickets_last_5\n",
    "\n",
    "        input_data_team2 = input_data_team1.copy()\n",
    "        input_data_team2.loc[0,'bowl_team_' + team1] = 1\n",
    "        input_data_team2.loc[0, 'overs'] = 0\n",
    "        input_data_team2.loc[0, 'wickets'] =0\n",
    "        input_data_team2.loc[0, 'runs'] = 0\n",
    "        input_data_team2.loc[0, 'runs_last_5']=0\n",
    "        input_data_team2.loc[0, 'wickets_last_5']=0\n",
    "\n",
    "        predicted_score_team1 = model_RF.predict(input_data_team1)[0]\n",
    "        predicted_score_team2 = model_RF.predict(input_data_team2)[0]\n",
    "\n",
    "        if predicted_score_team1 > predicted_score_team2:\n",
    "          print(f\"{team1} is predicted to win!\")\n",
    "        elif predicted_score_team2 > predicted_score_team1:\n",
    "          print(f\"{team2} is predicted to win!\")\n",
    "        else:\n",
    "          print(\"It's a predicted tie!\")\n",
    "\n",
    "      else:\n",
    "        #During the 2nd Innings\n",
    "        input_data_team = pd.DataFrame(columns=X2.columns)\n",
    "        input_data_team.loc[0] = 0\n",
    "        input_data_team.loc[0,'bat_team_' + team1] = 1\n",
    "        input_data_team.loc[0,'bowl_team_' + team2] = 1\n",
    "        input_data_team.loc[0,'venue_' + venue] = 1\n",
    "        input_data_team.loc[0, 'overs'] = overs\n",
    "        input_data_team.loc[0, 'wickets'] = wickets\n",
    "        input_data_team.loc[0, 'runs'] = runs\n",
    "        input_data_team.loc[0, 'runs_last_5']=runs_last_5\n",
    "        input_data_team.loc[0, 'wickets_last_5']=wickets_last_5\n",
    "\n",
    "        predicted_score_team = model_RF.predict(input_data_team)[0]\n",
    "        if predicted_score_team > target:\n",
    "          print(f\"{team1} is predicted to win!\")\n",
    "        elif target == predicted_score_team:\n",
    "          print(\"It's a predicted tie!\")\n",
    "        else:\n",
    "          print(f\"{team2} is predicted to win!\")\n",
    "\n",
    "\n",
    "\n",
    "\n",
    "    else:\n",
    "      #Pre-match Prediction\n",
    "      if Innings=='1st Innings':\n",
    "        input_data_team1 = pd.DataFrame(columns=X2.columns)\n",
    "        input_data_team1.loc[0] = 0\n",
    "        input_data_team1.loc[0,'bat_team_' + team1] = 1\n",
    "        input_data_team1.loc[0,'bowl_team_' + team2] = 1\n",
    "        input_data_team1.loc[0,'venue_' + venue] = 1\n",
    "        input_data_team1.loc[0, 'overs'] = 0\n",
    "        input_data_team1.loc[0, 'wickets'] = 0\n",
    "        input_data_team1.loc[0, 'runs'] = 0\n",
    "        input_data_team1.loc[0, 'runs_last_5']=0\n",
    "        input_data_team1.loc[0, 'wickets_last_5']=0\n",
    "\n",
    "        input_data_team2 = input_data_team1.copy()\n",
    "        input_data_team2.loc[0,'bowl_team_' + team1] = 1\n",
    "        input_data_team2.loc[0, 'overs'] = 0\n",
    "        input_data_team2.loc[0, 'wickets'] =0\n",
    "        input_data_team2.loc[0, 'runs'] = 0\n",
    "        input_data_team2.loc[0, 'runs_last_5']=0\n",
    "        input_data_team2.loc[0, 'wickets_last_5']=0\n",
    "\n",
    "        predicted_score_team1 = model_RF.predict(input_data_team1)[0]\n",
    "        predicted_score_team2 = model_RF.predict(input_data_team2)[0]\n",
    "\n",
    "        if predicted_score_team1 > predicted_score_team2:\n",
    "          print(f\"{team1} is predicted to win!\")\n",
    "        elif predicted_score_team2 > predicted_score_team1:\n",
    "          print(f\"{team2} is predicted to win!\")\n",
    "        else:\n",
    "          print(\"It's a predicted tie!\")\n",
    "\n",
    "\n",
    "\n",
    "\n",
    "      else:\n",
    "        #prediction after 1st Innings\n",
    "        input_data_team = pd.DataFrame(columns=X2.columns)\n",
    "        input_data_team.loc[0] = 0\n",
    "        input_data_team.loc[0,'bat_team_' + team1] = 1\n",
    "        input_data_team.loc[0,'bowl_team_' + team2] = 1\n",
    "        input_data_team.loc[0,'venue_' + venue] = 1\n",
    "        input_data_team.loc[0, 'overs'] = overs\n",
    "        input_data_team.loc[0, 'wickets'] = wickets\n",
    "        input_data_team.loc[0, 'runs'] = runs\n",
    "        input_data_team.loc[0, 'runs_last_5']=runs_last_5\n",
    "        input_data_team.loc[0, 'wickets_last_5']=wickets_last_5\n",
    "\n",
    "        predicted_score_team = model_RF.predict(input_data_team)[0]\n",
    "        if predicted_score_team > target:\n",
    "          print(f\"{team1} is predicted to win!\")\n",
    "        elif target == predicted_score_team:\n",
    "          print(\"It's a predicted tie!\")\n",
    "        else:\n",
    "          print(f\"{team2} is predicted to win!\")\n",
    "\n",
    "\n"
   ],
   "metadata": {
    "id": "v2Rn7Cj1wIDU"
   },
   "execution_count": 10,
   "outputs": []
  },
  {
   "cell_type": "markdown",
   "source": [
    "# User Inputs"
   ],
   "metadata": {
    "id": "YEfyguCBaERs"
   }
  },
  {
   "cell_type": "code",
   "execution_count": 11,
   "metadata": {
    "id": "Vwf2Sau7UuFM",
    "colab": {
     "base_uri": "https://localhost:8080/",
     "height": 546,
     "referenced_widgets": [
      "4be4e12d06b14556a7cb362434fb5151",
      "a77f3e4b7cd4491d8df9a454312a37ca",
      "cb388162b6c34a01838b7daeacd4f125",
      "23d29cec33ab4dd99119912b836048a5",
      "dfbef5ba36294b82b25416852ce25c85",
      "97eeffa2206c4e56b181650d39a40104",
      "2dd7f86703f44e588650bfc705e70a6e",
      "68218d9f66404ddc81a7a7cb46cff372",
      "58b965fa28e0430abebc5366b0a61fe0",
      "021c7b93374448d4947c6cb5c8ceb36d",
      "2820325f8da545d79bed1a73cfc14dfc",
      "f8fa6d362a7e4233b9090fb7f2cc01b9",
      "5b939c8471ad428483a2ba6ccb4a243b",
      "e5c3b7b3e2734485bf91f53710c97455",
      "c77c8b36c63b420ea03841424cfe8fd6",
      "decc1ce754d54557ae7b70a3af018b29",
      "5febcdc8235f44808817c8bf18f9fc03",
      "f68dbc6d538540f08933d159b375dc1c",
      "99f39cee929d43839c07bfa97c43f25b",
      "ae97fc55057b411caf0db568475f6f8a",
      "ce75f5e545f7400f9f2c990e3f5fdcf5",
      "ed28c07c2c1042a0b418c0884af372d9",
      "d4998dd14a054b18bc6ce8bb522fa1aa",
      "82aab46da3d544c1ab93fb67e9dd5421",
      "1264645af38140e8ba6488f1cbf85771",
      "f3df7c0013ce47aeaa7aa34dda89071d",
      "4d5e61a9b81747e5a8524705968c9802",
      "7d9ebb2b382e4b69b981b4a568947e68",
      "742e083369eb472da9ce4188e13e662a",
      "5cff438c316f43b69de8ec26fd3bd652",
      "1852aab9f78740749517bb0756084a64",
      "e5622e5bb4754541b725ec0d20e040e7",
      "bc923d7dd3434c949349865bf3f53244",
      "ee3e38d48685451fa209d2ce520374b3",
      "0e42586a6cf14f2fa052a97632bf62dc",
      "7e09c3384d73470ba373072452e6520b",
      "0d38b276c5f1415aa13075cea238657a",
      "45d9ac49a6774054b5db4bdf6aa190b2",
      "d18ecd4595194a51adbb3a3f4a659bea",
      "6142a7a06f0d4292b62bdc161ad3ce40",
      "8a1da5c89ea645868596aac12b3c17c2",
      "f0bd66008acc4c33a656e92654e8113e",
      "4c6f798aa10c4b498ecdda539b23f6c7",
      "926465de4b9744c3b982a6981df89175",
      "cae9054bacba4c51baa30ae5eae1a6b0",
      "60e18b813fda40a68897d74e95501b69",
      "c329a937adfb48c8958bdbff3a7430e4",
      "5ad780e3c2f54098b393f7f04756e1bb"
     ]
    },
    "outputId": "ea26fa3b-577a-4f0b-fa22-7edd6c84adce"
   },
   "outputs": [
    {
     "output_type": "display_data",
     "data": {
      "text/plain": [
       "Dropdown(description='Batting Team:', options=('England', 'Pakistan', 'Sri Lanka', 'Australia', 'South Africa'\u2026"
      ],
      "application/vnd.jupyter.widget-view+json": {
       "version_major": 2,
       "version_minor": 0,
       "model_id": "4be4e12d06b14556a7cb362434fb5151"
      }
     },
     "metadata": {}
    },
    {
     "output_type": "display_data",
     "data": {
      "text/plain": [
       "Dropdown(description='Bowling Team:', options=('Ireland', 'Pakistan', 'England', 'Sri Lanka', 'South Africa', \u2026"
      ],
      "application/vnd.jupyter.widget-view+json": {
       "version_major": 2,
       "version_minor": 0,
       "model_id": "23d29cec33ab4dd99119912b836048a5"
      }
     },
     "metadata": {}
    },
    {
     "output_type": "display_data",
     "data": {
      "text/plain": [
       "Dropdown(description='Venue:', options=('Civil Service Cricket Club, Stormont', 'The Rose Bowl', 'Trent Bridge\u2026"
      ],
      "application/vnd.jupyter.widget-view+json": {
       "version_major": 2,
       "version_minor": 0,
       "model_id": "2dd7f86703f44e588650bfc705e70a6e"
      }
     },
     "metadata": {}
    },
    {
     "output_type": "display_data",
     "data": {
      "text/plain": [
       "Dropdown(description='Select Innings:', options=('1st Innings', '2nd Innings'), value='1st Innings')"
      ],
      "application/vnd.jupyter.widget-view+json": {
       "version_major": 2,
       "version_minor": 0,
       "model_id": "021c7b93374448d4947c6cb5c8ceb36d"
      }
     },
     "metadata": {}
    },
    {
     "output_type": "display_data",
     "data": {
      "text/plain": [
       "IntSlider(value=0, description='Target', max=500)"
      ],
      "application/vnd.jupyter.widget-view+json": {
       "version_major": 2,
       "version_minor": 0,
       "model_id": "5b939c8471ad428483a2ba6ccb4a243b"
      }
     },
     "metadata": {}
    },
    {
     "output_type": "display_data",
     "data": {
      "text/plain": [
       "FloatSlider(value=0.0, description='Overs Bowled:', max=50.0)"
      ],
      "application/vnd.jupyter.widget-view+json": {
       "version_major": 2,
       "version_minor": 0,
       "model_id": "decc1ce754d54557ae7b70a3af018b29"
      }
     },
     "metadata": {}
    },
    {
     "output_type": "display_data",
     "data": {
      "text/plain": [
       "IntSlider(value=0, description='Wickets Fallen:', max=9)"
      ],
      "application/vnd.jupyter.widget-view+json": {
       "version_major": 2,
       "version_minor": 0,
       "model_id": "99f39cee929d43839c07bfa97c43f25b"
      }
     },
     "metadata": {}
    },
    {
     "output_type": "display_data",
     "data": {
      "text/plain": [
       "IntSlider(value=0, description='Runs Scored:', max=500)"
      ],
      "application/vnd.jupyter.widget-view+json": {
       "version_major": 2,
       "version_minor": 0,
       "model_id": "ed28c07c2c1042a0b418c0884af372d9"
      }
     },
     "metadata": {}
    },
    {
     "output_type": "display_data",
     "data": {
      "text/plain": [
       "IntSlider(value=0, description='Wickets last 5:', max=9)"
      ],
      "application/vnd.jupyter.widget-view+json": {
       "version_major": 2,
       "version_minor": 0,
       "model_id": "1264645af38140e8ba6488f1cbf85771"
      }
     },
     "metadata": {}
    },
    {
     "output_type": "display_data",
     "data": {
      "text/plain": [
       "IntSlider(value=0, description='Runs last 5', max=500)"
      ],
      "application/vnd.jupyter.widget-view+json": {
       "version_major": 2,
       "version_minor": 0,
       "model_id": "7d9ebb2b382e4b69b981b4a568947e68"
      }
     },
     "metadata": {}
    },
    {
     "output_type": "display_data",
     "data": {
      "text/plain": [
       "Button(description='Linear Regression', style=ButtonStyle())"
      ],
      "application/vnd.jupyter.widget-view+json": {
       "version_major": 2,
       "version_minor": 0,
       "model_id": "1852aab9f78740749517bb0756084a64"
      }
     },
     "metadata": {}
    },
    {
     "output_type": "display_data",
     "data": {
      "text/plain": [
       "Button(description='Random Forest', style=ButtonStyle())"
      ],
      "application/vnd.jupyter.widget-view+json": {
       "version_major": 2,
       "version_minor": 0,
       "model_id": "ee3e38d48685451fa209d2ce520374b3"
      }
     },
     "metadata": {}
    },
    {
     "output_type": "display_data",
     "data": {
      "text/plain": [
       "Button(description='Neural Network', style=ButtonStyle())"
      ],
      "application/vnd.jupyter.widget-view+json": {
       "version_major": 2,
       "version_minor": 0,
       "model_id": "0d38b276c5f1415aa13075cea238657a"
      }
     },
     "metadata": {}
    },
    {
     "output_type": "display_data",
     "data": {
      "text/plain": [
       "Button(description='Elastic Net', style=ButtonStyle())"
      ],
      "application/vnd.jupyter.widget-view+json": {
       "version_major": 2,
       "version_minor": 0,
       "model_id": "6142a7a06f0d4292b62bdc161ad3ce40"
      }
     },
     "metadata": {}
    },
    {
     "output_type": "display_data",
     "data": {
      "text/plain": [
       "Button(description='Predict Winner', style=ButtonStyle())"
      ],
      "application/vnd.jupyter.widget-view+json": {
       "version_major": 2,
       "version_minor": 0,
       "model_id": "4c6f798aa10c4b498ecdda539b23f6c7"
      }
     },
     "metadata": {}
    },
    {
     "output_type": "display_data",
     "data": {
      "text/plain": [
       "FloatText(value=0.0, description='Final Score:')"
      ],
      "application/vnd.jupyter.widget-view+json": {
       "version_major": 2,
       "version_minor": 0,
       "model_id": "60e18b813fda40a68897d74e95501b69"
      }
     },
     "metadata": {}
    },
    {
     "output_type": "stream",
     "name": "stdout",
     "text": [
      "1/1 [==============================] - 0s 59ms/step\n",
      "Bangladesh is predicted to win!\n"
     ]
    }
   ],
   "source": [
    "batting_team_options = df['bat_team'].unique()\n",
    "bowling_team_options = df['bowl_team'].unique()\n",
    "venue_options = df['venue'].unique()\n",
    "innings_options = [\"1st Innings\", \"2nd Innings\"]\n",
    "\n",
    "#Widgets\n",
    "overs = widgets.FloatSlider(min=0, max=50, value=0, description='Overs Bowled:')\n",
    "wickets= widgets.IntSlider(min=0, max=9, value=0, description='Wickets Fallen:')\n",
    "runs= widgets.IntSlider(min=0, max=500, value=0, description='Runs Scored:')\n",
    "runs_last_5= widgets.IntSlider(min=0, max=500, value=0, description='Runs last 5')\n",
    "wickets_last_5= widgets.IntSlider(min=0, max=9, value=0, description='Wickets last 5:')\n",
    "batting_team = widgets.Dropdown(options=batting_team_options, description='Batting Team:')\n",
    "bowling_team = widgets.Dropdown(options=bowling_team_options, description='Bowling Team:')\n",
    "venue= widgets.Dropdown(options=venue_options, description='Venue:')\n",
    "inning= widgets.Dropdown(options=innings_options, description='Select Innings:')\n",
    "target= widgets.IntSlider(min=0, max=500, value=0, description='Target')\n",
    "\n",
    "#Prediction Buttons\n",
    "predict_button1 = widgets.Button(description='Linear Regression')\n",
    "predict_button2 = widgets.Button(description='Random Forest')\n",
    "predict_button3 = widgets.Button(description='Neural Network')\n",
    "predict_button4 = widgets.Button(description='Elastic Net')\n",
    "predict_winner = widgets.Button(description='Predict Winner')\n",
    "\n",
    "predicted_score = widgets.FloatText(description='Final Score:', value=0)\n",
    "\n",
    "\n",
    "\n",
    "#Prediction Buttons actions\n",
    "predict_button1.on_click(lambda x: predict_final_score(overs.value, wickets.value, runs.value, batting_team.value, bowling_team.value, venue.value,runs_last_5.value,wickets_last_5.value,1))\n",
    "predict_button2.on_click(lambda x: predict_final_score(overs.value, wickets.value, runs.value, batting_team.value, bowling_team.value, venue.value,runs_last_5.value,wickets_last_5.value,2))\n",
    "predict_button3.on_click(lambda x: predict_final_score(overs.value, wickets.value, runs.value, batting_team.value, bowling_team.value, venue.value,runs_last_5.value,wickets_last_5.value,3))\n",
    "predict_button4.on_click(lambda x: predict_final_score(overs.value, wickets.value, runs.value, batting_team.value, bowling_team.value, venue.value,runs_last_5.value,wickets_last_5.value,4))\n",
    "predict_winner.on_click(lambda x: predicted_winner(overs.value, wickets.value, runs.value,batting_team.value, bowling_team.value, venue.value,runs_last_5.value,wickets_last_5.value,target.value,inning.value))\n",
    "\n",
    "display(batting_team, bowling_team, venue,inning,target,overs, wickets, runs,wickets_last_5,runs_last_5 , predict_button1,predict_button2,predict_button3,predict_button4,predict_winner,predicted_score)\n"
   ]
  }
 ],
 "metadata": {
  "colab": {
   "provenance": [],
   "gpuType": "T4"
  },
  "kernelspec": {
   "display_name": "Python 3",
   "name": "python3"
  },
  "language_info": {
   "name": "python"
  },
  "widgets": {
   "application/vnd.jupyter.widget-state+json": {
    "4be4e12d06b14556a7cb362434fb5151": {
     "model_module": "@jupyter-widgets/controls",
     "model_name": "DropdownModel",
     "model_module_version": "1.5.0",
     "state": {
      "_dom_classes": [],
      "_model_module": "@jupyter-widgets/controls",
      "_model_module_version": "1.5.0",
      "_model_name": "DropdownModel",
      "_options_labels": [
       "England",
       "Pakistan",
       "Sri Lanka",
       "Australia",
       "South Africa",
       "New Zealand",
       "Bangladesh",
       "West Indies",
       "India",
       "Zimbabwe",
       "Ireland",
       "Scotland",
       "Kenya",
       "Bermuda",
       "Netherlands",
       "Canada",
       "Asia XI",
       "Afghanistan",
       "United Arab Emirates",
       "Hong Kong",
       "Papua New Guinea"
      ],
      "_view_count": null,
      "_view_module": "@jupyter-widgets/controls",
      "_view_module_version": "1.5.0",
      "_view_name": "DropdownView",
      "description": "Batting Team:",
      "description_tooltip": null,
      "disabled": false,
      "index": 6,
      "layout": "IPY_MODEL_a77f3e4b7cd4491d8df9a454312a37ca",
      "style": "IPY_MODEL_cb388162b6c34a01838b7daeacd4f125"
     }
    },
    "a77f3e4b7cd4491d8df9a454312a37ca": {
     "model_module": "@jupyter-widgets/base",
     "model_name": "LayoutModel",
     "model_module_version": "1.2.0",
     "state": {
      "_model_module": "@jupyter-widgets/base",
      "_model_module_version": "1.2.0",
      "_model_name": "LayoutModel",
      "_view_count": null,
      "_view_module": "@jupyter-widgets/base",
      "_view_module_version": "1.2.0",
      "_view_name": "LayoutView",
      "align_content": null,
      "align_items": null,
      "align_self": null,
      "border": null,
      "bottom": null,
      "display": null,
      "flex": null,
      "flex_flow": null,
      "grid_area": null,
      "grid_auto_columns": null,
      "grid_auto_flow": null,
      "grid_auto_rows": null,
      "grid_column": null,
      "grid_gap": null,
      "grid_row": null,
      "grid_template_areas": null,
      "grid_template_columns": null,
      "grid_template_rows": null,
      "height": null,
      "justify_content": null,
      "justify_items": null,
      "left": null,
      "margin": null,
      "max_height": null,
      "max_width": null,
      "min_height": null,
      "min_width": null,
      "object_fit": null,
      "object_position": null,
      "order": null,
      "overflow": null,
      "overflow_x": null,
      "overflow_y": null,
      "padding": null,
      "right": null,
      "top": null,
      "visibility": null,
      "width": null
     }
    },
    "cb388162b6c34a01838b7daeacd4f125": {
     "model_module": "@jupyter-widgets/controls",
     "model_name": "DescriptionStyleModel",
     "model_module_version": "1.5.0",
     "state": {
      "_model_module": "@jupyter-widgets/controls",
      "_model_module_version": "1.5.0",
      "_model_name": "DescriptionStyleModel",
      "_view_count": null,
      "_view_module": "@jupyter-widgets/base",
      "_view_module_version": "1.2.0",
      "_view_name": "StyleView",
      "description_width": ""
     }
    },
    "23d29cec33ab4dd99119912b836048a5": {
     "model_module": "@jupyter-widgets/controls",
     "model_name": "DropdownModel",
     "model_module_version": "1.5.0",
     "state": {
      "_dom_classes": [],
      "_model_module": "@jupyter-widgets/controls",
      "_model_module_version": "1.5.0",
      "_model_name": "DropdownModel",
      "_options_labels": [
       "Ireland",
       "Pakistan",
       "England",
       "Sri Lanka",
       "South Africa",
       "Australia",
       "New Zealand",
       "India",
       "West Indies",
       "Bangladesh",
       "Zimbabwe",
       "Scotland",
       "Bermuda",
       "Netherlands",
       "Canada",
       "Kenya",
       "Africa XI",
       "United Arab Emirates",
       "Hong Kong",
       "Afghanistan",
       "Papua New Guinea"
      ],
      "_view_count": null,
      "_view_module": "@jupyter-widgets/controls",
      "_view_module_version": "1.5.0",
      "_view_name": "DropdownView",
      "description": "Bowling Team:",
      "description_tooltip": null,
      "disabled": false,
      "index": 7,
      "layout": "IPY_MODEL_dfbef5ba36294b82b25416852ce25c85",
      "style": "IPY_MODEL_97eeffa2206c4e56b181650d39a40104"
     }
    },
    "dfbef5ba36294b82b25416852ce25c85": {
     "model_module": "@jupyter-widgets/base",
     "model_name": "LayoutModel",
     "model_module_version": "1.2.0",
     "state": {
      "_model_module": "@jupyter-widgets/base",
      "_model_module_version": "1.2.0",
      "_model_name": "LayoutModel",
      "_view_count": null,
      "_view_module": "@jupyter-widgets/base",
      "_view_module_version": "1.2.0",
      "_view_name": "LayoutView",
      "align_content": null,
      "align_items": null,
      "align_self": null,
      "border": null,
      "bottom": null,
      "display": null,
      "flex": null,
      "flex_flow": null,
      "grid_area": null,
      "grid_auto_columns": null,
      "grid_auto_flow": null,
      "grid_auto_rows": null,
      "grid_column": null,
      "grid_gap": null,
      "grid_row": null,
      "grid_template_areas": null,
      "grid_template_columns": null,
      "grid_template_rows": null,
      "height": null,
      "justify_content": null,
      "justify_items": null,
      "left": null,
      "margin": null,
      "max_height": null,
      "max_width": null,
      "min_height": null,
      "min_width": null,
      "object_fit": null,
      "object_position": null,
      "order": null,
      "overflow": null,
      "overflow_x": null,
      "overflow_y": null,
      "padding": null,
      "right": null,
      "top": null,
      "visibility": null,
      "width": null
     }
    },
    "97eeffa2206c4e56b181650d39a40104": {
     "model_module": "@jupyter-widgets/controls",
     "model_name": "DescriptionStyleModel",
     "model_module_version": "1.5.0",
     "state": {
      "_model_module": "@jupyter-widgets/controls",
      "_model_module_version": "1.5.0",
      "_model_name": "DescriptionStyleModel",
      "_view_count": null,
      "_view_module": "@jupyter-widgets/base",
      "_view_module_version": "1.2.0",
      "_view_name": "StyleView",
      "description_width": ""
     }
    },
    "2dd7f86703f44e588650bfc705e70a6e": {
     "model_module": "@jupyter-widgets/controls",
     "model_name": "DropdownModel",
     "model_module_version": "1.5.0",
     "state": {
      "_dom_classes": [],
      "_model_module": "@jupyter-widgets/controls",
      "_model_module_version": "1.5.0",
      "_model_name": "DropdownModel",
      "_options_labels": [
       "Civil Service Cricket Club, Stormont",
       "The Rose Bowl",
       "Trent Bridge",
       "Edgbaston",
       "Lord's",
       "Kennington Oval",
       "Riverside Ground",
       "Old Trafford",
       "Headingley",
       "Brisbane Cricket Ground, Woolloongabba",
       "Docklands Stadium",
       "Sydney Cricket Ground",
       "Adelaide Oval",
       "Western Australia Cricket Association Ground",
       "Bellerive Oval",
       "Jade Stadium",
       "Westpac Stadium",
       "Rawalpindi Cricket Stadium",
       "Gaddafi Stadium",
       "Multan Cricket Stadium",
       "National Stadium",
       "Shaheed Chandu Stadium",
       "Chittagong Divisional Stadium",
       "Narayanganj Osmani Stadium",
       "Queenstown Events Centre",
       "McLean Park",
       "Eden Park",
       "Feroz Shah Kotla",
       "Nahar Singh Stadium",
       "Nehru Stadium, Fatorda",
       "Keenan Stadium",
       "Maharani Usharaje Trust Cricket Ground",
       "Newlands",
       "St George's Park",
       "Kingsmead",
       "New Wanderers Stadium",
       "R Premadasa Stadium",
       "Sinhalese Sports Club Ground",
       "Antigua Recreation Ground, St John's",
       "Beausejour Stadium, Gros Islet",
       "Queen's Park Oval, Port of Spain",
       "Sabina Park, Kingston",
       "Warner Park, Basseterre",
       "Sheikh Zayed Stadium",
       "Sir Vivian Richards Stadium, North Sound",
       "Providence Stadium",
       "National Cricket Stadium, St George's",
       "Kensington Oval, Bridgetown",
       "Harare Sports Club",
       "SuperSport Park",
       "Melbourne Cricket Ground",
       "Gymkhana Club Ground",
       "Punjab Cricket Association Stadium, Mohali",
       "Sardar Patel Stadium, Motera",
       "Sawai Mansingh Stadium",
       "Brabourne Stadium",
       "Seddon Park",
       "Goodyear Park",
       "Kinrara Academy Oval",
       "Sedgars Park",
       "Iqbal Stadium",
       "County Ground",
       "Willowmoore Park",
       "Buffalo Park",
       "Shere Bangla National Stadium",
       "Ruaraka Sports Club Ground",
       "Jaffery Sports Club Ground",
       "MA Chidambaram Stadium, Chepauk",
       "Indian Petrochemicals Corporation Limited Sports Complex Ground",
       "Madhavrao Scindia Cricket Ground",
       "Andhra Cricket Association-Visakhapatnam District Cricket Association Stadium",
       "M Chinnaswamy Stadium",
       "Rangiri Dambulla International Stadium",
       "P Saravanamuttu Stadium",
       "Nehru Stadium",
       "Rajiv Gandhi International Stadium, Uppal",
       "Sector 16 Stadium",
       "Reliance Stadium",
       "Vidarbha Cricket Association Ground",
       "Wankhede Stadium",
       "Green Park",
       "Captain Roop Singh Stadium",
       "Queens Sports Club",
       "Arnos Vale Ground, Kingstown",
       "Clontarf Cricket Club Ground",
       "Niaz Stadium, Hyderabad",
       "Sheikhupura Stadium",
       "Marrara Cricket Ground",
       "Senwes Park",
       "OUTsurance Oval",
       "Barabati Stadium",
       "AMI Stadium",
       "Dubai Sports City Cricket Stadium",
       "Windsor Park, Roseau",
       "Maple Leaf North-West Ground",
       "Vidarbha Cricket Association Stadium, Jamtha",
       "Zohur Ahmed Chowdhury Stadium",
       "University Oval",
       "Sophia Gardens",
       "Eden Gardens",
       "Mahinda Rajapaksa International Cricket Stadium, Sooriyawewa",
       "Pallekele International Cricket Stadium",
       "Zahur Ahmed Chowdhury Stadium",
       "VRA Ground",
       "Cambusdoon New Ground",
       "Dubai International Cricket Stadium",
       "Dr. Y.S. Rajasekhara Reddy ACA-VDCA Cricket Stadium",
       "Boland Park",
       "De Beers Diamond Oval",
       "Cobham Oval (New)",
       "Sharjah Cricket Stadium",
       "Holkar Cricket Stadium",
       "Mombasa Sports Club Ground",
       "Saurashtra Cricket Association Stadium",
       "JSCA International Stadium Complex",
       "Himachal Pradesh Cricket Association Stadium",
       "The Village, Malahide",
       "Chevrolet Park",
       "Sharjah Cricket Association Stadium",
       "Manuka Oval",
       "Sheikh Abu Naser Stadium",
       "ICC Global Cricket Academy",
       "Grange Cricket Club Ground, Raeburn Place",
       "Maharashtra Cricket Association Stadium",
       "Hagley Oval",
       "Saxton Oval",
       "Khan Shaheb Osman Ali Stadium",
       "Bert Sutcliffe Oval",
       "Bay Oval",
       "ICC Academy",
       "Basin Reserve",
       "Mission Road Ground, Mong Kok",
       "Malahide",
       "Greater Noida Sports Complex Ground",
       "Darren Sammy National Cricket Stadium, Gros Islet",
       "Galle International Stadium"
      ],
      "_view_count": null,
      "_view_module": "@jupyter-widgets/controls",
      "_view_module_version": "1.5.0",
      "_view_name": "DropdownView",
      "description": "Venue:",
      "description_tooltip": null,
      "disabled": false,
      "index": 36,
      "layout": "IPY_MODEL_68218d9f66404ddc81a7a7cb46cff372",
      "style": "IPY_MODEL_58b965fa28e0430abebc5366b0a61fe0"
     }
    },
    "68218d9f66404ddc81a7a7cb46cff372": {
     "model_module": "@jupyter-widgets/base",
     "model_name": "LayoutModel",
     "model_module_version": "1.2.0",
     "state": {
      "_model_module": "@jupyter-widgets/base",
      "_model_module_version": "1.2.0",
      "_model_name": "LayoutModel",
      "_view_count": null,
      "_view_module": "@jupyter-widgets/base",
      "_view_module_version": "1.2.0",
      "_view_name": "LayoutView",
      "align_content": null,
      "align_items": null,
      "align_self": null,
      "border": null,
      "bottom": null,
      "display": null,
      "flex": null,
      "flex_flow": null,
      "grid_area": null,
      "grid_auto_columns": null,
      "grid_auto_flow": null,
      "grid_auto_rows": null,
      "grid_column": null,
      "grid_gap": null,
      "grid_row": null,
      "grid_template_areas": null,
      "grid_template_columns": null,
      "grid_template_rows": null,
      "height": null,
      "justify_content": null,
      "justify_items": null,
      "left": null,
      "margin": null,
      "max_height": null,
      "max_width": null,
      "min_height": null,
      "min_width": null,
      "object_fit": null,
      "object_position": null,
      "order": null,
      "overflow": null,
      "overflow_x": null,
      "overflow_y": null,
      "padding": null,
      "right": null,
      "top": null,
      "visibility": null,
      "width": null
     }
    },
    "58b965fa28e0430abebc5366b0a61fe0": {
     "model_module": "@jupyter-widgets/controls",
     "model_name": "DescriptionStyleModel",
     "model_module_version": "1.5.0",
     "state": {
      "_model_module": "@jupyter-widgets/controls",
      "_model_module_version": "1.5.0",
      "_model_name": "DescriptionStyleModel",
      "_view_count": null,
      "_view_module": "@jupyter-widgets/base",
      "_view_module_version": "1.2.0",
      "_view_name": "StyleView",
      "description_width": ""
     }
    },
    "021c7b93374448d4947c6cb5c8ceb36d": {
     "model_module": "@jupyter-widgets/controls",
     "model_name": "DropdownModel",
     "model_module_version": "1.5.0",
     "state": {
      "_dom_classes": [],
      "_model_module": "@jupyter-widgets/controls",
      "_model_module_version": "1.5.0",
      "_model_name": "DropdownModel",
      "_options_labels": [
       "1st Innings",
       "2nd Innings"
      ],
      "_view_count": null,
      "_view_module": "@jupyter-widgets/controls",
      "_view_module_version": "1.5.0",
      "_view_name": "DropdownView",
      "description": "Select Innings:",
      "description_tooltip": null,
      "disabled": false,
      "index": 0,
      "layout": "IPY_MODEL_2820325f8da545d79bed1a73cfc14dfc",
      "style": "IPY_MODEL_f8fa6d362a7e4233b9090fb7f2cc01b9"
     }
    },
    "2820325f8da545d79bed1a73cfc14dfc": {
     "model_module": "@jupyter-widgets/base",
     "model_name": "LayoutModel",
     "model_module_version": "1.2.0",
     "state": {
      "_model_module": "@jupyter-widgets/base",
      "_model_module_version": "1.2.0",
      "_model_name": "LayoutModel",
      "_view_count": null,
      "_view_module": "@jupyter-widgets/base",
      "_view_module_version": "1.2.0",
      "_view_name": "LayoutView",
      "align_content": null,
      "align_items": null,
      "align_self": null,
      "border": null,
      "bottom": null,
      "display": null,
      "flex": null,
      "flex_flow": null,
      "grid_area": null,
      "grid_auto_columns": null,
      "grid_auto_flow": null,
      "grid_auto_rows": null,
      "grid_column": null,
      "grid_gap": null,
      "grid_row": null,
      "grid_template_areas": null,
      "grid_template_columns": null,
      "grid_template_rows": null,
      "height": null,
      "justify_content": null,
      "justify_items": null,
      "left": null,
      "margin": null,
      "max_height": null,
      "max_width": null,
      "min_height": null,
      "min_width": null,
      "object_fit": null,
      "object_position": null,
      "order": null,
      "overflow": null,
      "overflow_x": null,
      "overflow_y": null,
      "padding": null,
      "right": null,
      "top": null,
      "visibility": null,
      "width": null
     }
    },
    "f8fa6d362a7e4233b9090fb7f2cc01b9": {
     "model_module": "@jupyter-widgets/controls",
     "model_name": "DescriptionStyleModel",
     "model_module_version": "1.5.0",
     "state": {
      "_model_module": "@jupyter-widgets/controls",
      "_model_module_version": "1.5.0",
      "_model_name": "DescriptionStyleModel",
      "_view_count": null,
      "_view_module": "@jupyter-widgets/base",
      "_view_module_version": "1.2.0",
      "_view_name": "StyleView",
      "description_width": ""
     }
    },
    "5b939c8471ad428483a2ba6ccb4a243b": {
     "model_module": "@jupyter-widgets/controls",
     "model_name": "IntSliderModel",
     "model_module_version": "1.5.0",
     "state": {
      "_dom_classes": [],
      "_model_module": "@jupyter-widgets/controls",
      "_model_module_version": "1.5.0",
      "_model_name": "IntSliderModel",
      "_view_count": null,
      "_view_module": "@jupyter-widgets/controls",
      "_view_module_version": "1.5.0",
      "_view_name": "IntSliderView",
      "continuous_update": true,
      "description": "Target",
      "description_tooltip": null,
      "disabled": false,
      "layout": "IPY_MODEL_e5c3b7b3e2734485bf91f53710c97455",
      "max": 500,
      "min": 0,
      "orientation": "horizontal",
      "readout": true,
      "readout_format": "d",
      "step": 1,
      "style": "IPY_MODEL_c77c8b36c63b420ea03841424cfe8fd6",
      "value": 0
     }
    },
    "e5c3b7b3e2734485bf91f53710c97455": {
     "model_module": "@jupyter-widgets/base",
     "model_name": "LayoutModel",
     "model_module_version": "1.2.0",
     "state": {
      "_model_module": "@jupyter-widgets/base",
      "_model_module_version": "1.2.0",
      "_model_name": "LayoutModel",
      "_view_count": null,
      "_view_module": "@jupyter-widgets/base",
      "_view_module_version": "1.2.0",
      "_view_name": "LayoutView",
      "align_content": null,
      "align_items": null,
      "align_self": null,
      "border": null,
      "bottom": null,
      "display": null,
      "flex": null,
      "flex_flow": null,
      "grid_area": null,
      "grid_auto_columns": null,
      "grid_auto_flow": null,
      "grid_auto_rows": null,
      "grid_column": null,
      "grid_gap": null,
      "grid_row": null,
      "grid_template_areas": null,
      "grid_template_columns": null,
      "grid_template_rows": null,
      "height": null,
      "justify_content": null,
      "justify_items": null,
      "left": null,
      "margin": null,
      "max_height": null,
      "max_width": null,
      "min_height": null,
      "min_width": null,
      "object_fit": null,
      "object_position": null,
      "order": null,
      "overflow": null,
      "overflow_x": null,
      "overflow_y": null,
      "padding": null,
      "right": null,
      "top": null,
      "visibility": null,
      "width": null
     }
    },
    "c77c8b36c63b420ea03841424cfe8fd6": {
     "model_module": "@jupyter-widgets/controls",
     "model_name": "SliderStyleModel",
     "model_module_version": "1.5.0",
     "state": {
      "_model_module": "@jupyter-widgets/controls",
      "_model_module_version": "1.5.0",
      "_model_name": "SliderStyleModel",
      "_view_count": null,
      "_view_module": "@jupyter-widgets/base",
      "_view_module_version": "1.2.0",
      "_view_name": "StyleView",
      "description_width": "",
      "handle_color": null
     }
    },
    "decc1ce754d54557ae7b70a3af018b29": {
     "model_module": "@jupyter-widgets/controls",
     "model_name": "FloatSliderModel",
     "model_module_version": "1.5.0",
     "state": {
      "_dom_classes": [],
      "_model_module": "@jupyter-widgets/controls",
      "_model_module_version": "1.5.0",
      "_model_name": "FloatSliderModel",
      "_view_count": null,
      "_view_module": "@jupyter-widgets/controls",
      "_view_module_version": "1.5.0",
      "_view_name": "FloatSliderView",
      "continuous_update": true,
      "description": "Overs Bowled:",
      "description_tooltip": null,
      "disabled": false,
      "layout": "IPY_MODEL_5febcdc8235f44808817c8bf18f9fc03",
      "max": 50,
      "min": 0,
      "orientation": "horizontal",
      "readout": true,
      "readout_format": ".2f",
      "step": 0.1,
      "style": "IPY_MODEL_f68dbc6d538540f08933d159b375dc1c",
      "value": 30
     }
    },
    "5febcdc8235f44808817c8bf18f9fc03": {
     "model_module": "@jupyter-widgets/base",
     "model_name": "LayoutModel",
     "model_module_version": "1.2.0",
     "state": {
      "_model_module": "@jupyter-widgets/base",
      "_model_module_version": "1.2.0",
      "_model_name": "LayoutModel",
      "_view_count": null,
      "_view_module": "@jupyter-widgets/base",
      "_view_module_version": "1.2.0",
      "_view_name": "LayoutView",
      "align_content": null,
      "align_items": null,
      "align_self": null,
      "border": null,
      "bottom": null,
      "display": null,
      "flex": null,
      "flex_flow": null,
      "grid_area": null,
      "grid_auto_columns": null,
      "grid_auto_flow": null,
      "grid_auto_rows": null,
      "grid_column": null,
      "grid_gap": null,
      "grid_row": null,
      "grid_template_areas": null,
      "grid_template_columns": null,
      "grid_template_rows": null,
      "height": null,
      "justify_content": null,
      "justify_items": null,
      "left": null,
      "margin": null,
      "max_height": null,
      "max_width": null,
      "min_height": null,
      "min_width": null,
      "object_fit": null,
      "object_position": null,
      "order": null,
      "overflow": null,
      "overflow_x": null,
      "overflow_y": null,
      "padding": null,
      "right": null,
      "top": null,
      "visibility": null,
      "width": null
     }
    },
    "f68dbc6d538540f08933d159b375dc1c": {
     "model_module": "@jupyter-widgets/controls",
     "model_name": "SliderStyleModel",
     "model_module_version": "1.5.0",
     "state": {
      "_model_module": "@jupyter-widgets/controls",
      "_model_module_version": "1.5.0",
      "_model_name": "SliderStyleModel",
      "_view_count": null,
      "_view_module": "@jupyter-widgets/base",
      "_view_module_version": "1.2.0",
      "_view_name": "StyleView",
      "description_width": "",
      "handle_color": null
     }
    },
    "99f39cee929d43839c07bfa97c43f25b": {
     "model_module": "@jupyter-widgets/controls",
     "model_name": "IntSliderModel",
     "model_module_version": "1.5.0",
     "state": {
      "_dom_classes": [],
      "_model_module": "@jupyter-widgets/controls",
      "_model_module_version": "1.5.0",
      "_model_name": "IntSliderModel",
      "_view_count": null,
      "_view_module": "@jupyter-widgets/controls",
      "_view_module_version": "1.5.0",
      "_view_name": "IntSliderView",
      "continuous_update": true,
      "description": "Wickets Fallen:",
      "description_tooltip": null,
      "disabled": false,
      "layout": "IPY_MODEL_ae97fc55057b411caf0db568475f6f8a",
      "max": 9,
      "min": 0,
      "orientation": "horizontal",
      "readout": true,
      "readout_format": "d",
      "step": 1,
      "style": "IPY_MODEL_ce75f5e545f7400f9f2c990e3f5fdcf5",
      "value": 4
     }
    },
    "ae97fc55057b411caf0db568475f6f8a": {
     "model_module": "@jupyter-widgets/base",
     "model_name": "LayoutModel",
     "model_module_version": "1.2.0",
     "state": {
      "_model_module": "@jupyter-widgets/base",
      "_model_module_version": "1.2.0",
      "_model_name": "LayoutModel",
      "_view_count": null,
      "_view_module": "@jupyter-widgets/base",
      "_view_module_version": "1.2.0",
      "_view_name": "LayoutView",
      "align_content": null,
      "align_items": null,
      "align_self": null,
      "border": null,
      "bottom": null,
      "display": null,
      "flex": null,
      "flex_flow": null,
      "grid_area": null,
      "grid_auto_columns": null,
      "grid_auto_flow": null,
      "grid_auto_rows": null,
      "grid_column": null,
      "grid_gap": null,
      "grid_row": null,
      "grid_template_areas": null,
      "grid_template_columns": null,
      "grid_template_rows": null,
      "height": null,
      "justify_content": null,
      "justify_items": null,
      "left": null,
      "margin": null,
      "max_height": null,
      "max_width": null,
      "min_height": null,
      "min_width": null,
      "object_fit": null,
      "object_position": null,
      "order": null,
      "overflow": null,
      "overflow_x": null,
      "overflow_y": null,
      "padding": null,
      "right": null,
      "top": null,
      "visibility": null,
      "width": null
     }
    },
    "ce75f5e545f7400f9f2c990e3f5fdcf5": {
     "model_module": "@jupyter-widgets/controls",
     "model_name": "SliderStyleModel",
     "model_module_version": "1.5.0",
     "state": {
      "_model_module": "@jupyter-widgets/controls",
      "_model_module_version": "1.5.0",
      "_model_name": "SliderStyleModel",
      "_view_count": null,
      "_view_module": "@jupyter-widgets/base",
      "_view_module_version": "1.2.0",
      "_view_name": "StyleView",
      "description_width": "",
      "handle_color": null
     }
    },
    "ed28c07c2c1042a0b418c0884af372d9": {
     "model_module": "@jupyter-widgets/controls",
     "model_name": "IntSliderModel",
     "model_module_version": "1.5.0",
     "state": {
      "_dom_classes": [],
      "_model_module": "@jupyter-widgets/controls",
      "_model_module_version": "1.5.0",
      "_model_name": "IntSliderModel",
      "_view_count": null,
      "_view_module": "@jupyter-widgets/controls",
      "_view_module_version": "1.5.0",
      "_view_name": "IntSliderView",
      "continuous_update": true,
      "description": "Runs Scored:",
      "description_tooltip": null,
      "disabled": false,
      "layout": "IPY_MODEL_d4998dd14a054b18bc6ce8bb522fa1aa",
      "max": 500,
      "min": 0,
      "orientation": "horizontal",
      "readout": true,
      "readout_format": "d",
      "step": 1,
      "style": "IPY_MODEL_82aab46da3d544c1ab93fb67e9dd5421",
      "value": 137
     }
    },
    "d4998dd14a054b18bc6ce8bb522fa1aa": {
     "model_module": "@jupyter-widgets/base",
     "model_name": "LayoutModel",
     "model_module_version": "1.2.0",
     "state": {
      "_model_module": "@jupyter-widgets/base",
      "_model_module_version": "1.2.0",
      "_model_name": "LayoutModel",
      "_view_count": null,
      "_view_module": "@jupyter-widgets/base",
      "_view_module_version": "1.2.0",
      "_view_name": "LayoutView",
      "align_content": null,
      "align_items": null,
      "align_self": null,
      "border": null,
      "bottom": null,
      "display": null,
      "flex": null,
      "flex_flow": null,
      "grid_area": null,
      "grid_auto_columns": null,
      "grid_auto_flow": null,
      "grid_auto_rows": null,
      "grid_column": null,
      "grid_gap": null,
      "grid_row": null,
      "grid_template_areas": null,
      "grid_template_columns": null,
      "grid_template_rows": null,
      "height": null,
      "justify_content": null,
      "justify_items": null,
      "left": null,
      "margin": null,
      "max_height": null,
      "max_width": null,
      "min_height": null,
      "min_width": null,
      "object_fit": null,
      "object_position": null,
      "order": null,
      "overflow": null,
      "overflow_x": null,
      "overflow_y": null,
      "padding": null,
      "right": null,
      "top": null,
      "visibility": null,
      "width": null
     }
    },
    "82aab46da3d544c1ab93fb67e9dd5421": {
     "model_module": "@jupyter-widgets/controls",
     "model_name": "SliderStyleModel",
     "model_module_version": "1.5.0",
     "state": {
      "_model_module": "@jupyter-widgets/controls",
      "_model_module_version": "1.5.0",
      "_model_name": "SliderStyleModel",
      "_view_count": null,
      "_view_module": "@jupyter-widgets/base",
      "_view_module_version": "1.2.0",
      "_view_name": "StyleView",
      "description_width": "",
      "handle_color": null
     }
    },
    "1264645af38140e8ba6488f1cbf85771": {
     "model_module": "@jupyter-widgets/controls",
     "model_name": "IntSliderModel",
     "model_module_version": "1.5.0",
     "state": {
      "_dom_classes": [],
      "_model_module": "@jupyter-widgets/controls",
      "_model_module_version": "1.5.0",
      "_model_name": "IntSliderModel",
      "_view_count": null,
      "_view_module": "@jupyter-widgets/controls",
      "_view_module_version": "1.5.0",
      "_view_name": "IntSliderView",
      "continuous_update": true,
      "description": "Wickets last 5:",
      "description_tooltip": null,
      "disabled": false,
      "layout": "IPY_MODEL_f3df7c0013ce47aeaa7aa34dda89071d",
      "max": 9,
      "min": 0,
      "orientation": "horizontal",
      "readout": true,
      "readout_format": "d",
      "step": 1,
      "style": "IPY_MODEL_4d5e61a9b81747e5a8524705968c9802",
      "value": 0
     }
    },
    "f3df7c0013ce47aeaa7aa34dda89071d": {
     "model_module": "@jupyter-widgets/base",
     "model_name": "LayoutModel",
     "model_module_version": "1.2.0",
     "state": {
      "_model_module": "@jupyter-widgets/base",
      "_model_module_version": "1.2.0",
      "_model_name": "LayoutModel",
      "_view_count": null,
      "_view_module": "@jupyter-widgets/base",
      "_view_module_version": "1.2.0",
      "_view_name": "LayoutView",
      "align_content": null,
      "align_items": null,
      "align_self": null,
      "border": null,
      "bottom": null,
      "display": null,
      "flex": null,
      "flex_flow": null,
      "grid_area": null,
      "grid_auto_columns": null,
      "grid_auto_flow": null,
      "grid_auto_rows": null,
      "grid_column": null,
      "grid_gap": null,
      "grid_row": null,
      "grid_template_areas": null,
      "grid_template_columns": null,
      "grid_template_rows": null,
      "height": null,
      "justify_content": null,
      "justify_items": null,
      "left": null,
      "margin": null,
      "max_height": null,
      "max_width": null,
      "min_height": null,
      "min_width": null,
      "object_fit": null,
      "object_position": null,
      "order": null,
      "overflow": null,
      "overflow_x": null,
      "overflow_y": null,
      "padding": null,
      "right": null,
      "top": null,
      "visibility": null,
      "width": null
     }
    },
    "4d5e61a9b81747e5a8524705968c9802": {
     "model_module": "@jupyter-widgets/controls",
     "model_name": "SliderStyleModel",
     "model_module_version": "1.5.0",
     "state": {
      "_model_module": "@jupyter-widgets/controls",
      "_model_module_version": "1.5.0",
      "_model_name": "SliderStyleModel",
      "_view_count": null,
      "_view_module": "@jupyter-widgets/base",
      "_view_module_version": "1.2.0",
      "_view_name": "StyleView",
      "description_width": "",
      "handle_color": null
     }
    },
    "7d9ebb2b382e4b69b981b4a568947e68": {
     "model_module": "@jupyter-widgets/controls",
     "model_name": "IntSliderModel",
     "model_module_version": "1.5.0",
     "state": {
      "_dom_classes": [],
      "_model_module": "@jupyter-widgets/controls",
      "_model_module_version": "1.5.0",
      "_model_name": "IntSliderModel",
      "_view_count": null,
      "_view_module": "@jupyter-widgets/controls",
      "_view_module_version": "1.5.0",
      "_view_name": "IntSliderView",
      "continuous_update": true,
      "description": "Runs last 5",
      "description_tooltip": null,
      "disabled": false,
      "layout": "IPY_MODEL_742e083369eb472da9ce4188e13e662a",
      "max": 500,
      "min": 0,
      "orientation": "horizontal",
      "readout": true,
      "readout_format": "d",
      "step": 1,
      "style": "IPY_MODEL_5cff438c316f43b69de8ec26fd3bd652",
      "value": 29
     }
    },
    "742e083369eb472da9ce4188e13e662a": {
     "model_module": "@jupyter-widgets/base",
     "model_name": "LayoutModel",
     "model_module_version": "1.2.0",
     "state": {
      "_model_module": "@jupyter-widgets/base",
      "_model_module_version": "1.2.0",
      "_model_name": "LayoutModel",
      "_view_count": null,
      "_view_module": "@jupyter-widgets/base",
      "_view_module_version": "1.2.0",
      "_view_name": "LayoutView",
      "align_content": null,
      "align_items": null,
      "align_self": null,
      "border": null,
      "bottom": null,
      "display": null,
      "flex": null,
      "flex_flow": null,
      "grid_area": null,
      "grid_auto_columns": null,
      "grid_auto_flow": null,
      "grid_auto_rows": null,
      "grid_column": null,
      "grid_gap": null,
      "grid_row": null,
      "grid_template_areas": null,
      "grid_template_columns": null,
      "grid_template_rows": null,
      "height": null,
      "justify_content": null,
      "justify_items": null,
      "left": null,
      "margin": null,
      "max_height": null,
      "max_width": null,
      "min_height": null,
      "min_width": null,
      "object_fit": null,
      "object_position": null,
      "order": null,
      "overflow": null,
      "overflow_x": null,
      "overflow_y": null,
      "padding": null,
      "right": null,
      "top": null,
      "visibility": null,
      "width": null
     }
    },
    "5cff438c316f43b69de8ec26fd3bd652": {
     "model_module": "@jupyter-widgets/controls",
     "model_name": "SliderStyleModel",
     "model_module_version": "1.5.0",
     "state": {
      "_model_module": "@jupyter-widgets/controls",
      "_model_module_version": "1.5.0",
      "_model_name": "SliderStyleModel",
      "_view_count": null,
      "_view_module": "@jupyter-widgets/base",
      "_view_module_version": "1.2.0",
      "_view_name": "StyleView",
      "description_width": "",
      "handle_color": null
     }
    },
    "1852aab9f78740749517bb0756084a64": {
     "model_module": "@jupyter-widgets/controls",
     "model_name": "ButtonModel",
     "model_module_version": "1.5.0",
     "state": {
      "_dom_classes": [],
      "_model_module": "@jupyter-widgets/controls",
      "_model_module_version": "1.5.0",
      "_model_name": "ButtonModel",
      "_view_count": null,
      "_view_module": "@jupyter-widgets/controls",
      "_view_module_version": "1.5.0",
      "_view_name": "ButtonView",
      "button_style": "",
      "description": "Linear Regression",
      "disabled": false,
      "icon": "",
      "layout": "IPY_MODEL_e5622e5bb4754541b725ec0d20e040e7",
      "style": "IPY_MODEL_bc923d7dd3434c949349865bf3f53244",
      "tooltip": ""
     }
    },
    "e5622e5bb4754541b725ec0d20e040e7": {
     "model_module": "@jupyter-widgets/base",
     "model_name": "LayoutModel",
     "model_module_version": "1.2.0",
     "state": {
      "_model_module": "@jupyter-widgets/base",
      "_model_module_version": "1.2.0",
      "_model_name": "LayoutModel",
      "_view_count": null,
      "_view_module": "@jupyter-widgets/base",
      "_view_module_version": "1.2.0",
      "_view_name": "LayoutView",
      "align_content": null,
      "align_items": null,
      "align_self": null,
      "border": null,
      "bottom": null,
      "display": null,
      "flex": null,
      "flex_flow": null,
      "grid_area": null,
      "grid_auto_columns": null,
      "grid_auto_flow": null,
      "grid_auto_rows": null,
      "grid_column": null,
      "grid_gap": null,
      "grid_row": null,
      "grid_template_areas": null,
      "grid_template_columns": null,
      "grid_template_rows": null,
      "height": null,
      "justify_content": null,
      "justify_items": null,
      "left": null,
      "margin": null,
      "max_height": null,
      "max_width": null,
      "min_height": null,
      "min_width": null,
      "object_fit": null,
      "object_position": null,
      "order": null,
      "overflow": null,
      "overflow_x": null,
      "overflow_y": null,
      "padding": null,
      "right": null,
      "top": null,
      "visibility": null,
      "width": null
     }
    },
    "bc923d7dd3434c949349865bf3f53244": {
     "model_module": "@jupyter-widgets/controls",
     "model_name": "ButtonStyleModel",
     "model_module_version": "1.5.0",
     "state": {
      "_model_module": "@jupyter-widgets/controls",
      "_model_module_version": "1.5.0",
      "_model_name": "ButtonStyleModel",
      "_view_count": null,
      "_view_module": "@jupyter-widgets/base",
      "_view_module_version": "1.2.0",
      "_view_name": "StyleView",
      "button_color": null,
      "font_weight": ""
     }
    },
    "ee3e38d48685451fa209d2ce520374b3": {
     "model_module": "@jupyter-widgets/controls",
     "model_name": "ButtonModel",
     "model_module_version": "1.5.0",
     "state": {
      "_dom_classes": [],
      "_model_module": "@jupyter-widgets/controls",
      "_model_module_version": "1.5.0",
      "_model_name": "ButtonModel",
      "_view_count": null,
      "_view_module": "@jupyter-widgets/controls",
      "_view_module_version": "1.5.0",
      "_view_name": "ButtonView",
      "button_style": "",
      "description": "Random Forest",
      "disabled": false,
      "icon": "",
      "layout": "IPY_MODEL_0e42586a6cf14f2fa052a97632bf62dc",
      "style": "IPY_MODEL_7e09c3384d73470ba373072452e6520b",
      "tooltip": ""
     }
    },
    "0e42586a6cf14f2fa052a97632bf62dc": {
     "model_module": "@jupyter-widgets/base",
     "model_name": "LayoutModel",
     "model_module_version": "1.2.0",
     "state": {
      "_model_module": "@jupyter-widgets/base",
      "_model_module_version": "1.2.0",
      "_model_name": "LayoutModel",
      "_view_count": null,
      "_view_module": "@jupyter-widgets/base",
      "_view_module_version": "1.2.0",
      "_view_name": "LayoutView",
      "align_content": null,
      "align_items": null,
      "align_self": null,
      "border": null,
      "bottom": null,
      "display": null,
      "flex": null,
      "flex_flow": null,
      "grid_area": null,
      "grid_auto_columns": null,
      "grid_auto_flow": null,
      "grid_auto_rows": null,
      "grid_column": null,
      "grid_gap": null,
      "grid_row": null,
      "grid_template_areas": null,
      "grid_template_columns": null,
      "grid_template_rows": null,
      "height": null,
      "justify_content": null,
      "justify_items": null,
      "left": null,
      "margin": null,
      "max_height": null,
      "max_width": null,
      "min_height": null,
      "min_width": null,
      "object_fit": null,
      "object_position": null,
      "order": null,
      "overflow": null,
      "overflow_x": null,
      "overflow_y": null,
      "padding": null,
      "right": null,
      "top": null,
      "visibility": null,
      "width": null
     }
    },
    "7e09c3384d73470ba373072452e6520b": {
     "model_module": "@jupyter-widgets/controls",
     "model_name": "ButtonStyleModel",
     "model_module_version": "1.5.0",
     "state": {
      "_model_module": "@jupyter-widgets/controls",
      "_model_module_version": "1.5.0",
      "_model_name": "ButtonStyleModel",
      "_view_count": null,
      "_view_module": "@jupyter-widgets/base",
      "_view_module_version": "1.2.0",
      "_view_name": "StyleView",
      "button_color": null,
      "font_weight": ""
     }
    },
    "0d38b276c5f1415aa13075cea238657a": {
     "model_module": "@jupyter-widgets/controls",
     "model_name": "ButtonModel",
     "model_module_version": "1.5.0",
     "state": {
      "_dom_classes": [],
      "_model_module": "@jupyter-widgets/controls",
      "_model_module_version": "1.5.0",
      "_model_name": "ButtonModel",
      "_view_count": null,
      "_view_module": "@jupyter-widgets/controls",
      "_view_module_version": "1.5.0",
      "_view_name": "ButtonView",
      "button_style": "",
      "description": "Neural Network",
      "disabled": false,
      "icon": "",
      "layout": "IPY_MODEL_45d9ac49a6774054b5db4bdf6aa190b2",
      "style": "IPY_MODEL_d18ecd4595194a51adbb3a3f4a659bea",
      "tooltip": ""
     }
    },
    "45d9ac49a6774054b5db4bdf6aa190b2": {
     "model_module": "@jupyter-widgets/base",
     "model_name": "LayoutModel",
     "model_module_version": "1.2.0",
     "state": {
      "_model_module": "@jupyter-widgets/base",
      "_model_module_version": "1.2.0",
      "_model_name": "LayoutModel",
      "_view_count": null,
      "_view_module": "@jupyter-widgets/base",
      "_view_module_version": "1.2.0",
      "_view_name": "LayoutView",
      "align_content": null,
      "align_items": null,
      "align_self": null,
      "border": null,
      "bottom": null,
      "display": null,
      "flex": null,
      "flex_flow": null,
      "grid_area": null,
      "grid_auto_columns": null,
      "grid_auto_flow": null,
      "grid_auto_rows": null,
      "grid_column": null,
      "grid_gap": null,
      "grid_row": null,
      "grid_template_areas": null,
      "grid_template_columns": null,
      "grid_template_rows": null,
      "height": null,
      "justify_content": null,
      "justify_items": null,
      "left": null,
      "margin": null,
      "max_height": null,
      "max_width": null,
      "min_height": null,
      "min_width": null,
      "object_fit": null,
      "object_position": null,
      "order": null,
      "overflow": null,
      "overflow_x": null,
      "overflow_y": null,
      "padding": null,
      "right": null,
      "top": null,
      "visibility": null,
      "width": null
     }
    },
    "d18ecd4595194a51adbb3a3f4a659bea": {
     "model_module": "@jupyter-widgets/controls",
     "model_name": "ButtonStyleModel",
     "model_module_version": "1.5.0",
     "state": {
      "_model_module": "@jupyter-widgets/controls",
      "_model_module_version": "1.5.0",
      "_model_name": "ButtonStyleModel",
      "_view_count": null,
      "_view_module": "@jupyter-widgets/base",
      "_view_module_version": "1.2.0",
      "_view_name": "StyleView",
      "button_color": null,
      "font_weight": ""
     }
    },
    "6142a7a06f0d4292b62bdc161ad3ce40": {
     "model_module": "@jupyter-widgets/controls",
     "model_name": "ButtonModel",
     "model_module_version": "1.5.0",
     "state": {
      "_dom_classes": [],
      "_model_module": "@jupyter-widgets/controls",
      "_model_module_version": "1.5.0",
      "_model_name": "ButtonModel",
      "_view_count": null,
      "_view_module": "@jupyter-widgets/controls",
      "_view_module_version": "1.5.0",
      "_view_name": "ButtonView",
      "button_style": "",
      "description": "Elastic Net",
      "disabled": false,
      "icon": "",
      "layout": "IPY_MODEL_8a1da5c89ea645868596aac12b3c17c2",
      "style": "IPY_MODEL_f0bd66008acc4c33a656e92654e8113e",
      "tooltip": ""
     }
    },
    "8a1da5c89ea645868596aac12b3c17c2": {
     "model_module": "@jupyter-widgets/base",
     "model_name": "LayoutModel",
     "model_module_version": "1.2.0",
     "state": {
      "_model_module": "@jupyter-widgets/base",
      "_model_module_version": "1.2.0",
      "_model_name": "LayoutModel",
      "_view_count": null,
      "_view_module": "@jupyter-widgets/base",
      "_view_module_version": "1.2.0",
      "_view_name": "LayoutView",
      "align_content": null,
      "align_items": null,
      "align_self": null,
      "border": null,
      "bottom": null,
      "display": null,
      "flex": null,
      "flex_flow": null,
      "grid_area": null,
      "grid_auto_columns": null,
      "grid_auto_flow": null,
      "grid_auto_rows": null,
      "grid_column": null,
      "grid_gap": null,
      "grid_row": null,
      "grid_template_areas": null,
      "grid_template_columns": null,
      "grid_template_rows": null,
      "height": null,
      "justify_content": null,
      "justify_items": null,
      "left": null,
      "margin": null,
      "max_height": null,
      "max_width": null,
      "min_height": null,
      "min_width": null,
      "object_fit": null,
      "object_position": null,
      "order": null,
      "overflow": null,
      "overflow_x": null,
      "overflow_y": null,
      "padding": null,
      "right": null,
      "top": null,
      "visibility": null,
      "width": null
     }
    },
    "f0bd66008acc4c33a656e92654e8113e": {
     "model_module": "@jupyter-widgets/controls",
     "model_name": "ButtonStyleModel",
     "model_module_version": "1.5.0",
     "state": {
      "_model_module": "@jupyter-widgets/controls",
      "_model_module_version": "1.5.0",
      "_model_name": "ButtonStyleModel",
      "_view_count": null,
      "_view_module": "@jupyter-widgets/base",
      "_view_module_version": "1.2.0",
      "_view_name": "StyleView",
      "button_color": null,
      "font_weight": ""
     }
    },
    "4c6f798aa10c4b498ecdda539b23f6c7": {
     "model_module": "@jupyter-widgets/controls",
     "model_name": "ButtonModel",
     "model_module_version": "1.5.0",
     "state": {
      "_dom_classes": [],
      "_model_module": "@jupyter-widgets/controls",
      "_model_module_version": "1.5.0",
      "_model_name": "ButtonModel",
      "_view_count": null,
      "_view_module": "@jupyter-widgets/controls",
      "_view_module_version": "1.5.0",
      "_view_name": "ButtonView",
      "button_style": "",
      "description": "Predict Winner",
      "disabled": false,
      "icon": "",
      "layout": "IPY_MODEL_926465de4b9744c3b982a6981df89175",
      "style": "IPY_MODEL_cae9054bacba4c51baa30ae5eae1a6b0",
      "tooltip": ""
     }
    },
    "926465de4b9744c3b982a6981df89175": {
     "model_module": "@jupyter-widgets/base",
     "model_name": "LayoutModel",
     "model_module_version": "1.2.0",
     "state": {
      "_model_module": "@jupyter-widgets/base",
      "_model_module_version": "1.2.0",
      "_model_name": "LayoutModel",
      "_view_count": null,
      "_view_module": "@jupyter-widgets/base",
      "_view_module_version": "1.2.0",
      "_view_name": "LayoutView",
      "align_content": null,
      "align_items": null,
      "align_self": null,
      "border": null,
      "bottom": null,
      "display": null,
      "flex": null,
      "flex_flow": null,
      "grid_area": null,
      "grid_auto_columns": null,
      "grid_auto_flow": null,
      "grid_auto_rows": null,
      "grid_column": null,
      "grid_gap": null,
      "grid_row": null,
      "grid_template_areas": null,
      "grid_template_columns": null,
      "grid_template_rows": null,
      "height": null,
      "justify_content": null,
      "justify_items": null,
      "left": null,
      "margin": null,
      "max_height": null,
      "max_width": null,
      "min_height": null,
      "min_width": null,
      "object_fit": null,
      "object_position": null,
      "order": null,
      "overflow": null,
      "overflow_x": null,
      "overflow_y": null,
      "padding": null,
      "right": null,
      "top": null,
      "visibility": null,
      "width": null
     }
    },
    "cae9054bacba4c51baa30ae5eae1a6b0": {
     "model_module": "@jupyter-widgets/controls",
     "model_name": "ButtonStyleModel",
     "model_module_version": "1.5.0",
     "state": {
      "_model_module": "@jupyter-widgets/controls",
      "_model_module_version": "1.5.0",
      "_model_name": "ButtonStyleModel",
      "_view_count": null,
      "_view_module": "@jupyter-widgets/base",
      "_view_module_version": "1.2.0",
      "_view_name": "StyleView",
      "button_color": null,
      "font_weight": ""
     }
    },
    "60e18b813fda40a68897d74e95501b69": {
     "model_module": "@jupyter-widgets/controls",
     "model_name": "FloatTextModel",
     "model_module_version": "1.5.0",
     "state": {
      "_dom_classes": [],
      "_model_module": "@jupyter-widgets/controls",
      "_model_module_version": "1.5.0",
      "_model_name": "FloatTextModel",
      "_view_count": null,
      "_view_module": "@jupyter-widgets/controls",
      "_view_module_version": "1.5.0",
      "_view_name": "FloatTextView",
      "continuous_update": false,
      "description": "Final Score:",
      "description_tooltip": null,
      "disabled": false,
      "layout": "IPY_MODEL_c329a937adfb48c8958bdbff3a7430e4",
      "step": null,
      "style": "IPY_MODEL_5ad780e3c2f54098b393f7f04756e1bb",
      "value": 259
     }
    },
    "c329a937adfb48c8958bdbff3a7430e4": {
     "model_module": "@jupyter-widgets/base",
     "model_name": "LayoutModel",
     "model_module_version": "1.2.0",
     "state": {
      "_model_module": "@jupyter-widgets/base",
      "_model_module_version": "1.2.0",
      "_model_name": "LayoutModel",
      "_view_count": null,
      "_view_module": "@jupyter-widgets/base",
      "_view_module_version": "1.2.0",
      "_view_name": "LayoutView",
      "align_content": null,
      "align_items": null,
      "align_self": null,
      "border": null,
      "bottom": null,
      "display": null,
      "flex": null,
      "flex_flow": null,
      "grid_area": null,
      "grid_auto_columns": null,
      "grid_auto_flow": null,
      "grid_auto_rows": null,
      "grid_column": null,
      "grid_gap": null,
      "grid_row": null,
      "grid_template_areas": null,
      "grid_template_columns": null,
      "grid_template_rows": null,
      "height": null,
      "justify_content": null,
      "justify_items": null,
      "left": null,
      "margin": null,
      "max_height": null,
      "max_width": null,
      "min_height": null,
      "min_width": null,
      "object_fit": null,
      "object_position": null,
      "order": null,
      "overflow": null,
      "overflow_x": null,
      "overflow_y": null,
      "padding": null,
      "right": null,
      "top": null,
      "visibility": null,
      "width": null
     }
    },
    "5ad780e3c2f54098b393f7f04756e1bb": {
     "model_module": "@jupyter-widgets/controls",
     "model_name": "DescriptionStyleModel",
     "model_module_version": "1.5.0",
     "state": {
      "_model_module": "@jupyter-widgets/controls",
      "_model_module_version": "1.5.0",
      "_model_name": "DescriptionStyleModel",
      "_view_count": null,
      "_view_module": "@jupyter-widgets/base",
      "_view_module_version": "1.2.0",
      "_view_name": "StyleView",
      "description_width": ""
     }
    },
    "state": {}
   }
  },
  "accelerator": "GPU"
 },
 "nbformat": 4,
 "nbformat_minor": 0
}